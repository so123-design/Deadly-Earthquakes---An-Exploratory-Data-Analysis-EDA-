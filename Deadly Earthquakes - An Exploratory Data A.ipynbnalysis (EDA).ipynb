{
 "cells": [
  {
   "cell_type": "markdown",
   "metadata": {
    "id": "sg5qz84AN1dS"
   },
   "source": [
    "# **Deadly Earthquakes - An Exploratory Data Analysis (EDA)**"
   ]
  },
  {
   "cell_type": "markdown",
   "metadata": {
    "id": "HBxt0rwoppp7"
   },
   "source": [
    "## The project of The Smart Data Processing Systems and Data Science\n",
    "\n",
    "*   Done by Samir Boudaa, id = 52739  (2nd year Master in Computer Science - Data Scientist)\n",
    "\n",
    "\n"
   ]
  },
  {
   "cell_type": "markdown",
   "metadata": {
    "id": "MEgJJ7O8Ogap"
   },
   "source": [
    "## **Introduction**"
   ]
  },
  {
   "cell_type": "markdown",
   "metadata": {
    "id": "0-xKc1NqOzwB"
   },
   "source": [
    "This case study is a project to create a data story about the earthquake activities using the dataset provided by The National Earthquake Information Center (NEIC) where we will explore, process, analyze and visualize the collected data of NEIC about every earthquake with a reported magnitude 5.5 or higher since 1965, in order to gain insight into how the earthquakes behave and understand their activity mechanism to avoid the tremendous damages that cause and save people lives\n",
    "\n",
    "\n",
    "\n",
    "\n"
   ]
  },
  {
   "cell_type": "markdown",
   "metadata": {
    "id": "y_WogtF5Onkc"
   },
   "source": [
    "## **About the NEIC:**"
   ]
  },
  {
   "cell_type": "markdown",
   "metadata": {
    "id": "UyE9WH-kPLCq"
   },
   "source": [
    "The National Earthquake Information Center (NEIC) is a part of the United States Geological Survey (USGS) and is responsible for monitoring and reporting earthquake activity worldwide. It serves as a central hub for collecting, monitoring, analyzing, and disseminating information related to earthquakes on a global scale. The NEIC plays a crucial role in earthquake research, monitoring seismic events, and providing earthquake information to the public and scientific communities."
   ]
  },
  {
   "cell_type": "markdown",
   "metadata": {
    "id": "BVwmn5dBOwr-"
   },
   "source": [
    "### **Phase 1: ASK**"
   ]
  },
  {
   "cell_type": "markdown",
   "metadata": {
    "id": "toG8xFglPkej"
   },
   "source": [
    "**1- business task:**"
   ]
  },
  {
   "cell_type": "markdown",
   "metadata": {
    "id": "LZi_99nTPoWc"
   },
   "source": [
    "The earthquake activities, the way they behave and their mechanism, and which countries had highest magnitudes (for every earthquake with a reported magnitude 5.5 or higher since 1965)"
   ]
  },
  {
   "cell_type": "markdown",
   "metadata": {
    "id": "ACEMsOAoP00W"
   },
   "source": [
    "**2- Key Stakeholders:**\n"
   ]
  },
  {
   "cell_type": "markdown",
   "metadata": {
    "id": "VkveXtvxP053"
   },
   "source": [
    "\n",
    "\n",
    "* Mateusz Brajza (Our teacher)\n",
    "* My classmate teams\n",
    "\n"
   ]
  },
  {
   "cell_type": "markdown",
   "metadata": {
    "id": "odFcnvsuP0-d"
   },
   "source": [
    "### **Phase 2: PREPARE**"
   ]
  },
  {
   "cell_type": "markdown",
   "metadata": {
    "id": "9ARz7IGcP1CM"
   },
   "source": [
    "**1- About the data:**"
   ]
  },
  {
   "cell_type": "markdown",
   "metadata": {
    "id": "3HtGxpgQP1HG"
   },
   "source": [
    "The data is publicly available on the National Earthquake Information Center (NEIC) website and for this project it is available in the github repository provided by the teacher . This dataset includes a record of the date, time, location, depth, magnitude, and source of every earthquake with a reported magnitude 5.5 or higher since 1965. "
   ]
  },
  {
   "cell_type": "markdown",
   "metadata": {
    "id": "9l2jT6dFP1Ky"
   },
   "source": [
    "This data is credible, unbias and ROCCC (Reliable, Original, Comprehensive, Current, Cited). The data respected the privacy, security, openness and the accessibility aspects and checked for the integrity (the accuracy, completeness, consistency, and trustworthiness of data throughout its lifecycle)."
   ]
  },
  {
   "cell_type": "markdown",
   "metadata": {
    "id": "1_LaHpraP1PM"
   },
   "source": [
    "**2- Installing and loading common packages and libraries:**"
   ]
  },
  {
   "cell_type": "code",
   "execution_count": 1,
   "metadata": {
    "id": "qyYbluxekdfq"
   },
   "outputs": [],
   "source": [
    "import pandas as pd\n",
    "import numpy as np\n",
    "import seaborn as sns\n",
    "import matplotlib.pyplot as plt\n",
    "import geopandas as gpd\n",
    "from shapely.geometry import Point\n",
    "from geopy.geocoders import Nominatim"
   ]
  },
  {
   "cell_type": "markdown",
   "metadata": {
    "id": "U-BZRDesjyOa"
   },
   "source": [
    "**3- Upload the CSV file :**"
   ]
  },
  {
   "cell_type": "code",
   "execution_count": 3,
   "metadata": {
    "id": "jpb-mYNSktn8"
   },
   "outputs": [],
   "source": [
    "earthquakes = pd. read_csv('earthquakes_db.csv')"
   ]
  },
  {
   "cell_type": "markdown",
   "metadata": {
    "id": "cfIEaGEjjyWZ"
   },
   "source": [
    "**4- Exploring data which we have imported:**"
   ]
  },
  {
   "cell_type": "markdown",
   "metadata": {
    "id": "ig7rVJ__jyZu"
   },
   "source": [
    "\n",
    "\n",
    "*   **We can explore our data by using these following codes:**\n",
    "earthquakes.head(); earthquakes.descripe; earthquakes.info ; earthquakes.dtypes; earthquakes.columns, earthquakes.shape;\n",
    "\n",
    "\n",
    "*   **And we can also explore this data using histograms and boxplots**\n",
    "\n",
    "\n"
   ]
  },
  {
   "cell_type": "code",
   "execution_count": 4,
   "metadata": {
    "colab": {
     "base_uri": "https://localhost:8080/",
     "height": 290
    },
    "id": "CR43warzmobr",
    "outputId": "d927ce11-f937-4bfd-93cf-994d5f8fa8b0"
   },
   "outputs": [
    {
     "data": {
      "text/html": [
       "<div>\n",
       "<style scoped>\n",
       "    .dataframe tbody tr th:only-of-type {\n",
       "        vertical-align: middle;\n",
       "    }\n",
       "\n",
       "    .dataframe tbody tr th {\n",
       "        vertical-align: top;\n",
       "    }\n",
       "\n",
       "    .dataframe thead th {\n",
       "        text-align: right;\n",
       "    }\n",
       "</style>\n",
       "<table border=\"1\" class=\"dataframe\">\n",
       "  <thead>\n",
       "    <tr style=\"text-align: right;\">\n",
       "      <th></th>\n",
       "      <th>Date</th>\n",
       "      <th>Time</th>\n",
       "      <th>Latitude</th>\n",
       "      <th>Longitude</th>\n",
       "      <th>Type</th>\n",
       "      <th>Depth</th>\n",
       "      <th>Depth Error</th>\n",
       "      <th>Depth Seismic Stations</th>\n",
       "      <th>Magnitude</th>\n",
       "      <th>Magnitude Type</th>\n",
       "      <th>...</th>\n",
       "      <th>Magnitude Seismic Stations</th>\n",
       "      <th>Azimuthal Gap</th>\n",
       "      <th>Horizontal Distance</th>\n",
       "      <th>Horizontal Error</th>\n",
       "      <th>Root Mean Square</th>\n",
       "      <th>ID</th>\n",
       "      <th>Source</th>\n",
       "      <th>Location Source</th>\n",
       "      <th>Magnitude Source</th>\n",
       "      <th>Status</th>\n",
       "    </tr>\n",
       "  </thead>\n",
       "  <tbody>\n",
       "    <tr>\n",
       "      <th>0</th>\n",
       "      <td>01/02/1965</td>\n",
       "      <td>13:44:18</td>\n",
       "      <td>19.246</td>\n",
       "      <td>145.616</td>\n",
       "      <td>Earthquake</td>\n",
       "      <td>131.6</td>\n",
       "      <td>NaN</td>\n",
       "      <td>NaN</td>\n",
       "      <td>6.0</td>\n",
       "      <td>MW</td>\n",
       "      <td>...</td>\n",
       "      <td>NaN</td>\n",
       "      <td>NaN</td>\n",
       "      <td>NaN</td>\n",
       "      <td>NaN</td>\n",
       "      <td>NaN</td>\n",
       "      <td>ISCGEM860706</td>\n",
       "      <td>ISCGEM</td>\n",
       "      <td>ISCGEM</td>\n",
       "      <td>ISCGEM</td>\n",
       "      <td>Automatic</td>\n",
       "    </tr>\n",
       "    <tr>\n",
       "      <th>1</th>\n",
       "      <td>01/04/1965</td>\n",
       "      <td>11:29:49</td>\n",
       "      <td>1.863</td>\n",
       "      <td>127.352</td>\n",
       "      <td>Earthquake</td>\n",
       "      <td>80.0</td>\n",
       "      <td>NaN</td>\n",
       "      <td>NaN</td>\n",
       "      <td>5.8</td>\n",
       "      <td>MW</td>\n",
       "      <td>...</td>\n",
       "      <td>NaN</td>\n",
       "      <td>NaN</td>\n",
       "      <td>NaN</td>\n",
       "      <td>NaN</td>\n",
       "      <td>NaN</td>\n",
       "      <td>ISCGEM860737</td>\n",
       "      <td>ISCGEM</td>\n",
       "      <td>ISCGEM</td>\n",
       "      <td>ISCGEM</td>\n",
       "      <td>Automatic</td>\n",
       "    </tr>\n",
       "    <tr>\n",
       "      <th>2</th>\n",
       "      <td>01/05/1965</td>\n",
       "      <td>18:05:58</td>\n",
       "      <td>-20.579</td>\n",
       "      <td>-173.972</td>\n",
       "      <td>Earthquake</td>\n",
       "      <td>20.0</td>\n",
       "      <td>NaN</td>\n",
       "      <td>NaN</td>\n",
       "      <td>6.2</td>\n",
       "      <td>MW</td>\n",
       "      <td>...</td>\n",
       "      <td>NaN</td>\n",
       "      <td>NaN</td>\n",
       "      <td>NaN</td>\n",
       "      <td>NaN</td>\n",
       "      <td>NaN</td>\n",
       "      <td>ISCGEM860762</td>\n",
       "      <td>ISCGEM</td>\n",
       "      <td>ISCGEM</td>\n",
       "      <td>ISCGEM</td>\n",
       "      <td>Automatic</td>\n",
       "    </tr>\n",
       "    <tr>\n",
       "      <th>3</th>\n",
       "      <td>01/08/1965</td>\n",
       "      <td>18:49:43</td>\n",
       "      <td>-59.076</td>\n",
       "      <td>-23.557</td>\n",
       "      <td>Earthquake</td>\n",
       "      <td>15.0</td>\n",
       "      <td>NaN</td>\n",
       "      <td>NaN</td>\n",
       "      <td>5.8</td>\n",
       "      <td>MW</td>\n",
       "      <td>...</td>\n",
       "      <td>NaN</td>\n",
       "      <td>NaN</td>\n",
       "      <td>NaN</td>\n",
       "      <td>NaN</td>\n",
       "      <td>NaN</td>\n",
       "      <td>ISCGEM860856</td>\n",
       "      <td>ISCGEM</td>\n",
       "      <td>ISCGEM</td>\n",
       "      <td>ISCGEM</td>\n",
       "      <td>Automatic</td>\n",
       "    </tr>\n",
       "    <tr>\n",
       "      <th>4</th>\n",
       "      <td>01/09/1965</td>\n",
       "      <td>13:32:50</td>\n",
       "      <td>11.938</td>\n",
       "      <td>126.427</td>\n",
       "      <td>Earthquake</td>\n",
       "      <td>15.0</td>\n",
       "      <td>NaN</td>\n",
       "      <td>NaN</td>\n",
       "      <td>5.8</td>\n",
       "      <td>MW</td>\n",
       "      <td>...</td>\n",
       "      <td>NaN</td>\n",
       "      <td>NaN</td>\n",
       "      <td>NaN</td>\n",
       "      <td>NaN</td>\n",
       "      <td>NaN</td>\n",
       "      <td>ISCGEM860890</td>\n",
       "      <td>ISCGEM</td>\n",
       "      <td>ISCGEM</td>\n",
       "      <td>ISCGEM</td>\n",
       "      <td>Automatic</td>\n",
       "    </tr>\n",
       "  </tbody>\n",
       "</table>\n",
       "<p>5 rows × 21 columns</p>\n",
       "</div>"
      ],
      "text/plain": [
       "         Date      Time  Latitude  Longitude        Type  Depth  Depth Error  \\\n",
       "0  01/02/1965  13:44:18    19.246    145.616  Earthquake  131.6          NaN   \n",
       "1  01/04/1965  11:29:49     1.863    127.352  Earthquake   80.0          NaN   \n",
       "2  01/05/1965  18:05:58   -20.579   -173.972  Earthquake   20.0          NaN   \n",
       "3  01/08/1965  18:49:43   -59.076    -23.557  Earthquake   15.0          NaN   \n",
       "4  01/09/1965  13:32:50    11.938    126.427  Earthquake   15.0          NaN   \n",
       "\n",
       "   Depth Seismic Stations  Magnitude Magnitude Type  ...  \\\n",
       "0                     NaN        6.0             MW  ...   \n",
       "1                     NaN        5.8             MW  ...   \n",
       "2                     NaN        6.2             MW  ...   \n",
       "3                     NaN        5.8             MW  ...   \n",
       "4                     NaN        5.8             MW  ...   \n",
       "\n",
       "   Magnitude Seismic Stations  Azimuthal Gap  Horizontal Distance  \\\n",
       "0                         NaN            NaN                  NaN   \n",
       "1                         NaN            NaN                  NaN   \n",
       "2                         NaN            NaN                  NaN   \n",
       "3                         NaN            NaN                  NaN   \n",
       "4                         NaN            NaN                  NaN   \n",
       "\n",
       "   Horizontal Error  Root Mean Square            ID  Source Location Source  \\\n",
       "0               NaN               NaN  ISCGEM860706  ISCGEM          ISCGEM   \n",
       "1               NaN               NaN  ISCGEM860737  ISCGEM          ISCGEM   \n",
       "2               NaN               NaN  ISCGEM860762  ISCGEM          ISCGEM   \n",
       "3               NaN               NaN  ISCGEM860856  ISCGEM          ISCGEM   \n",
       "4               NaN               NaN  ISCGEM860890  ISCGEM          ISCGEM   \n",
       "\n",
       "  Magnitude Source     Status  \n",
       "0           ISCGEM  Automatic  \n",
       "1           ISCGEM  Automatic  \n",
       "2           ISCGEM  Automatic  \n",
       "3           ISCGEM  Automatic  \n",
       "4           ISCGEM  Automatic  \n",
       "\n",
       "[5 rows x 21 columns]"
      ]
     },
     "execution_count": 4,
     "metadata": {},
     "output_type": "execute_result"
    }
   ],
   "source": [
    "earthquakes.head()"
   ]
  },
  {
   "cell_type": "code",
   "execution_count": 5,
   "metadata": {
    "colab": {
     "base_uri": "https://localhost:8080/",
     "height": 0
    },
    "id": "gvxVHG5hmvdu",
    "outputId": "4d9e6dbb-c00b-4699-ea7e-075c2005adbe"
   },
   "outputs": [
    {
     "data": {
      "text/plain": [
       "Index(['Date', 'Time', 'Latitude', 'Longitude', 'Type', 'Depth', 'Depth Error',\n",
       "       'Depth Seismic Stations', 'Magnitude', 'Magnitude Type',\n",
       "       'Magnitude Error', 'Magnitude Seismic Stations', 'Azimuthal Gap',\n",
       "       'Horizontal Distance', 'Horizontal Error', 'Root Mean Square', 'ID',\n",
       "       'Source', 'Location Source', 'Magnitude Source', 'Status'],\n",
       "      dtype='object')"
      ]
     },
     "execution_count": 5,
     "metadata": {},
     "output_type": "execute_result"
    }
   ],
   "source": [
    "earthquakes.columns"
   ]
  },
  {
   "cell_type": "code",
   "execution_count": 6,
   "metadata": {
    "colab": {
     "base_uri": "https://localhost:8080/",
     "height": 0
    },
    "id": "d_3F-1jlmxsI",
    "outputId": "d9d348da-c5cb-4de5-d26e-199c7407a49e"
   },
   "outputs": [
    {
     "data": {
      "text/plain": [
       "(23412, 21)"
      ]
     },
     "execution_count": 6,
     "metadata": {},
     "output_type": "execute_result"
    }
   ],
   "source": [
    "earthquakes.shape"
   ]
  },
  {
   "cell_type": "code",
   "execution_count": 7,
   "metadata": {
    "colab": {
     "base_uri": "https://localhost:8080/",
     "height": 355
    },
    "id": "ss7qnN_qpmjL",
    "outputId": "9b48502c-3e5a-47fd-f8b7-3146612de2ac"
   },
   "outputs": [
    {
     "data": {
      "text/html": [
       "<div>\n",
       "<style scoped>\n",
       "    .dataframe tbody tr th:only-of-type {\n",
       "        vertical-align: middle;\n",
       "    }\n",
       "\n",
       "    .dataframe tbody tr th {\n",
       "        vertical-align: top;\n",
       "    }\n",
       "\n",
       "    .dataframe thead th {\n",
       "        text-align: right;\n",
       "    }\n",
       "</style>\n",
       "<table border=\"1\" class=\"dataframe\">\n",
       "  <thead>\n",
       "    <tr style=\"text-align: right;\">\n",
       "      <th></th>\n",
       "      <th>Latitude</th>\n",
       "      <th>Longitude</th>\n",
       "      <th>Depth</th>\n",
       "      <th>Depth Error</th>\n",
       "      <th>Depth Seismic Stations</th>\n",
       "      <th>Magnitude</th>\n",
       "      <th>Magnitude Error</th>\n",
       "      <th>Magnitude Seismic Stations</th>\n",
       "      <th>Azimuthal Gap</th>\n",
       "      <th>Horizontal Distance</th>\n",
       "      <th>Horizontal Error</th>\n",
       "      <th>Root Mean Square</th>\n",
       "    </tr>\n",
       "  </thead>\n",
       "  <tbody>\n",
       "    <tr>\n",
       "      <th>count</th>\n",
       "      <td>23412.000000</td>\n",
       "      <td>23412.000000</td>\n",
       "      <td>23412.000000</td>\n",
       "      <td>4461.000000</td>\n",
       "      <td>7097.000000</td>\n",
       "      <td>23412.000000</td>\n",
       "      <td>327.000000</td>\n",
       "      <td>2564.000000</td>\n",
       "      <td>7299.000000</td>\n",
       "      <td>1604.000000</td>\n",
       "      <td>1156.000000</td>\n",
       "      <td>17352.000000</td>\n",
       "    </tr>\n",
       "    <tr>\n",
       "      <th>mean</th>\n",
       "      <td>1.679033</td>\n",
       "      <td>39.639961</td>\n",
       "      <td>70.767911</td>\n",
       "      <td>4.993115</td>\n",
       "      <td>275.364098</td>\n",
       "      <td>5.882531</td>\n",
       "      <td>0.071820</td>\n",
       "      <td>48.944618</td>\n",
       "      <td>44.163532</td>\n",
       "      <td>3.992660</td>\n",
       "      <td>7.662759</td>\n",
       "      <td>1.022784</td>\n",
       "    </tr>\n",
       "    <tr>\n",
       "      <th>std</th>\n",
       "      <td>30.113183</td>\n",
       "      <td>125.511959</td>\n",
       "      <td>122.651898</td>\n",
       "      <td>4.875184</td>\n",
       "      <td>162.141631</td>\n",
       "      <td>0.423066</td>\n",
       "      <td>0.051466</td>\n",
       "      <td>62.943106</td>\n",
       "      <td>32.141486</td>\n",
       "      <td>5.377262</td>\n",
       "      <td>10.430396</td>\n",
       "      <td>0.188545</td>\n",
       "    </tr>\n",
       "    <tr>\n",
       "      <th>min</th>\n",
       "      <td>-77.080000</td>\n",
       "      <td>-179.997000</td>\n",
       "      <td>-1.100000</td>\n",
       "      <td>0.000000</td>\n",
       "      <td>0.000000</td>\n",
       "      <td>5.500000</td>\n",
       "      <td>0.000000</td>\n",
       "      <td>0.000000</td>\n",
       "      <td>0.000000</td>\n",
       "      <td>0.004505</td>\n",
       "      <td>0.085000</td>\n",
       "      <td>0.000000</td>\n",
       "    </tr>\n",
       "    <tr>\n",
       "      <th>25%</th>\n",
       "      <td>-18.653000</td>\n",
       "      <td>-76.349750</td>\n",
       "      <td>14.522500</td>\n",
       "      <td>1.800000</td>\n",
       "      <td>146.000000</td>\n",
       "      <td>5.600000</td>\n",
       "      <td>0.046000</td>\n",
       "      <td>10.000000</td>\n",
       "      <td>24.100000</td>\n",
       "      <td>0.968750</td>\n",
       "      <td>5.300000</td>\n",
       "      <td>0.900000</td>\n",
       "    </tr>\n",
       "    <tr>\n",
       "      <th>50%</th>\n",
       "      <td>-3.568500</td>\n",
       "      <td>103.982000</td>\n",
       "      <td>33.000000</td>\n",
       "      <td>3.500000</td>\n",
       "      <td>255.000000</td>\n",
       "      <td>5.700000</td>\n",
       "      <td>0.059000</td>\n",
       "      <td>28.000000</td>\n",
       "      <td>36.000000</td>\n",
       "      <td>2.319500</td>\n",
       "      <td>6.700000</td>\n",
       "      <td>1.000000</td>\n",
       "    </tr>\n",
       "    <tr>\n",
       "      <th>75%</th>\n",
       "      <td>26.190750</td>\n",
       "      <td>145.026250</td>\n",
       "      <td>54.000000</td>\n",
       "      <td>6.300000</td>\n",
       "      <td>384.000000</td>\n",
       "      <td>6.000000</td>\n",
       "      <td>0.075500</td>\n",
       "      <td>66.000000</td>\n",
       "      <td>54.000000</td>\n",
       "      <td>4.724500</td>\n",
       "      <td>8.100000</td>\n",
       "      <td>1.130000</td>\n",
       "    </tr>\n",
       "    <tr>\n",
       "      <th>max</th>\n",
       "      <td>86.005000</td>\n",
       "      <td>179.998000</td>\n",
       "      <td>700.000000</td>\n",
       "      <td>91.295000</td>\n",
       "      <td>934.000000</td>\n",
       "      <td>9.100000</td>\n",
       "      <td>0.410000</td>\n",
       "      <td>821.000000</td>\n",
       "      <td>360.000000</td>\n",
       "      <td>37.874000</td>\n",
       "      <td>99.000000</td>\n",
       "      <td>3.440000</td>\n",
       "    </tr>\n",
       "  </tbody>\n",
       "</table>\n",
       "</div>"
      ],
      "text/plain": [
       "           Latitude     Longitude         Depth  Depth Error  \\\n",
       "count  23412.000000  23412.000000  23412.000000  4461.000000   \n",
       "mean       1.679033     39.639961     70.767911     4.993115   \n",
       "std       30.113183    125.511959    122.651898     4.875184   \n",
       "min      -77.080000   -179.997000     -1.100000     0.000000   \n",
       "25%      -18.653000    -76.349750     14.522500     1.800000   \n",
       "50%       -3.568500    103.982000     33.000000     3.500000   \n",
       "75%       26.190750    145.026250     54.000000     6.300000   \n",
       "max       86.005000    179.998000    700.000000    91.295000   \n",
       "\n",
       "       Depth Seismic Stations     Magnitude  Magnitude Error  \\\n",
       "count             7097.000000  23412.000000       327.000000   \n",
       "mean               275.364098      5.882531         0.071820   \n",
       "std                162.141631      0.423066         0.051466   \n",
       "min                  0.000000      5.500000         0.000000   \n",
       "25%                146.000000      5.600000         0.046000   \n",
       "50%                255.000000      5.700000         0.059000   \n",
       "75%                384.000000      6.000000         0.075500   \n",
       "max                934.000000      9.100000         0.410000   \n",
       "\n",
       "       Magnitude Seismic Stations  Azimuthal Gap  Horizontal Distance  \\\n",
       "count                 2564.000000    7299.000000          1604.000000   \n",
       "mean                    48.944618      44.163532             3.992660   \n",
       "std                     62.943106      32.141486             5.377262   \n",
       "min                      0.000000       0.000000             0.004505   \n",
       "25%                     10.000000      24.100000             0.968750   \n",
       "50%                     28.000000      36.000000             2.319500   \n",
       "75%                     66.000000      54.000000             4.724500   \n",
       "max                    821.000000     360.000000            37.874000   \n",
       "\n",
       "       Horizontal Error  Root Mean Square  \n",
       "count       1156.000000      17352.000000  \n",
       "mean           7.662759          1.022784  \n",
       "std           10.430396          0.188545  \n",
       "min            0.085000          0.000000  \n",
       "25%            5.300000          0.900000  \n",
       "50%            6.700000          1.000000  \n",
       "75%            8.100000          1.130000  \n",
       "max           99.000000          3.440000  "
      ]
     },
     "execution_count": 7,
     "metadata": {},
     "output_type": "execute_result"
    }
   ],
   "source": [
    "earthquakes.describe()"
   ]
  },
  {
   "cell_type": "code",
   "execution_count": 8,
   "metadata": {
    "colab": {
     "base_uri": "https://localhost:8080/",
     "height": 0
    },
    "id": "MKwiX6tOpsz9",
    "outputId": "f2088cdd-d303-48df-85a3-b74d340d9d83"
   },
   "outputs": [
    {
     "data": {
      "text/plain": [
       "Date                           object\n",
       "Time                           object\n",
       "Latitude                      float64\n",
       "Longitude                     float64\n",
       "Type                           object\n",
       "Depth                         float64\n",
       "Depth Error                   float64\n",
       "Depth Seismic Stations        float64\n",
       "Magnitude                     float64\n",
       "Magnitude Type                 object\n",
       "Magnitude Error               float64\n",
       "Magnitude Seismic Stations    float64\n",
       "Azimuthal Gap                 float64\n",
       "Horizontal Distance           float64\n",
       "Horizontal Error              float64\n",
       "Root Mean Square              float64\n",
       "ID                             object\n",
       "Source                         object\n",
       "Location Source                object\n",
       "Magnitude Source               object\n",
       "Status                         object\n",
       "dtype: object"
      ]
     },
     "execution_count": 8,
     "metadata": {},
     "output_type": "execute_result"
    }
   ],
   "source": [
    "earthquakes.dtypes"
   ]
  },
  {
   "cell_type": "markdown",
   "metadata": {
    "id": "v-waBO8NjydY"
   },
   "source": [
    "**Exploring the variables (exp: Magnitude, Type, Status and Magnitude Type ) using the visualizations**"
   ]
  },
  {
   "cell_type": "markdown",
   "metadata": {
    "id": "__gLOeGlp8Y5"
   },
   "source": [
    "a- Magnitude:"
   ]
  },
  {
   "cell_type": "code",
   "execution_count": 9,
   "metadata": {
    "colab": {
     "base_uri": "https://localhost:8080/",
     "height": 484
    },
    "id": "7slyDrjrp48G",
    "outputId": "7a2236b3-353d-4638-9bc8-4ca449166fbc"
   },
   "outputs": [
    {
     "data": {
      "image/png": "[encoded data removed]",
      "text/plain": [
       "<Figure size 640x480 with 1 Axes>"
      ]
     },
     "metadata": {},
     "output_type": "display_data"
    }
   ],
   "source": [
    "# fonts\n",
    "font1 = {'family':'serif','color':'blue','size':20}\n",
    "font2 = {'family':'serif','color':'darkred','size':15}\n",
    "# Create a boxplot\n",
    "plt.boxplot(earthquakes['Magnitude'])\n",
    "# Set axis labels and title\n",
    "plt.title(\"The different magnitude values of the earthquakes \", fontdict = font1)\n",
    "plt.xlabel(\" The Magnitude variable\", fontdict = font2)\n",
    "plt.ylabel(\"Values\", fontdict = font2)\n",
    "# Display the plot\n",
    "plt.show()"
   ]
  },
  {
   "cell_type": "markdown",
   "metadata": {
    "id": "tiJidPFKjyg9"
   },
   "source": [
    "b- Type:"
   ]
  },
  {
   "cell_type": "code",
   "execution_count": 10,
   "metadata": {
    "colab": {
     "base_uri": "https://localhost:8080/",
     "height": 484
    },
    "id": "pksuz0Y9qufl",
    "outputId": "aaaa3604-bbf9-4186-89df-aa2fe7b3aff1"
   },
   "outputs": [
    {
     "data": {
      "image/png": "[encoded data removed]",
      "text/plain": [
       "<Figure size 640x480 with 1 Axes>"
      ]
     },
     "metadata": {},
     "output_type": "display_data"
    }
   ],
   "source": [
    "plt.title(\"The different types of earthquakes\", fontdict = font1)\n",
    "plt.xlabel(\"The types\", fontdict = font2)\n",
    "plt.ylabel(\"Amount\", fontdict = font2)\n",
    "plt.hist(earthquakes['Type'], color = \"blue\")\n",
    "plt.show()"
   ]
  },
  {
   "cell_type": "markdown",
   "metadata": {
    "id": "HbhmGsH3qyzU"
   },
   "source": [
    "c- Status:"
   ]
  },
  {
   "cell_type": "code",
   "execution_count": 11,
   "metadata": {
    "colab": {
     "base_uri": "https://localhost:8080/",
     "height": 0
    },
    "id": "8F6Go-2lq18M",
    "outputId": "e1515fcb-f3d1-4b76-8065-e903d0a103b8"
   },
   "outputs": [
    {
     "data": {
      "text/plain": [
       "array(['Automatic', 'Reviewed'], dtype=object)"
      ]
     },
     "execution_count": 11,
     "metadata": {},
     "output_type": "execute_result"
    }
   ],
   "source": [
    "distinct_values = earthquakes['Status'].unique()\n",
    "distinct_values"
   ]
  },
  {
   "cell_type": "code",
   "execution_count": 12,
   "metadata": {
    "colab": {
     "base_uri": "https://localhost:8080/",
     "height": 484
    },
    "id": "ZKwpnUyLrCVE",
    "outputId": "776bba22-f17a-4d92-b432-7b669109e6aa"
   },
   "outputs": [
    {
     "data": {
      "image/png": "[encoded data removed]",
      "text/plain": [
       "<Figure size 640x480 with 1 Axes>"
      ]
     },
     "metadata": {},
     "output_type": "display_data"
    }
   ],
   "source": [
    "plt.title(\"The various status types\", fontdict = font1)\n",
    "plt.xlabel(\"The status kind\", fontdict = font2)\n",
    "plt.ylabel(\"Amount\", fontdict = font2)\n",
    "plt.hist(earthquakes['Status'], color = \"green\")\n",
    "plt.show()"
   ]
  },
  {
   "cell_type": "markdown",
   "metadata": {
    "id": "sQye7J9Sq0oB"
   },
   "source": [
    "d- Magnitude Type:"
   ]
  },
  {
   "cell_type": "code",
   "execution_count": 13,
   "metadata": {
    "colab": {
     "base_uri": "https://localhost:8080/",
     "height": 0
    },
    "id": "SYHetGO7rTTU",
    "outputId": "63bf17f7-43e7-40fb-b79b-22f8a56e3efa"
   },
   "outputs": [
    {
     "data": {
      "text/plain": [
       "array(['MW', 'ML', 'MH', 'MS', 'MB', 'MWC', 'MD', nan, 'MWB', 'MWW',\n",
       "       'MWR'], dtype=object)"
      ]
     },
     "execution_count": 13,
     "metadata": {},
     "output_type": "execute_result"
    }
   ],
   "source": [
    "distinct_values = earthquakes['Magnitude Type'].unique()\n",
    "distinct_values"
   ]
  },
  {
   "cell_type": "code",
   "execution_count": 14,
   "metadata": {
    "colab": {
     "base_uri": "https://localhost:8080/",
     "height": 435
    },
    "id": "I7unZM6PrbR6",
    "outputId": "e89b0b0f-f097-48f6-9d32-e8e29e276b87"
   },
   "outputs": [
    {
     "data": {
      "image/png": "[encoded data removed]",
      "text/plain": [
       "<Figure size 640x480 with 1 Axes>"
      ]
     },
     "metadata": {},
     "output_type": "display_data"
    }
   ],
   "source": [
    "# Count the occurrences of each class\n",
    "class_counts = earthquakes['Magnitude Type'].value_counts()\n",
    "\n",
    "# Plot a pie chart\n",
    "plt.pie(class_counts, labels=class_counts.index, autopct='%1.1f%%', startangle=90)\n",
    "plt.title('Magnitude Type',fontdict = font1)\n",
    "plt.show()"
   ]
  },
  {
   "cell_type": "markdown",
   "metadata": {
    "id": "Nk7LgwjAriio"
   },
   "source": [
    "**5- Choosing the required data:**"
   ]
  },
  {
   "cell_type": "markdown",
   "metadata": {
    "id": "SPRufwPGrmqI"
   },
   "source": [
    "Take only the needed data."
   ]
  },
  {
   "cell_type": "code",
   "execution_count": 15,
   "metadata": {
    "id": "ugoWiMSBrrYy"
   },
   "outputs": [],
   "source": [
    "earthquakes = earthquakes [['Date', 'Time', 'Latitude', 'Longitude', 'Type', 'Depth','Magnitude', 'Magnitude Type', 'ID',\n",
    "                            'Source', 'Location Source', 'Magnitude Source', 'Status']]"
   ]
  },
  {
   "cell_type": "markdown",
   "metadata": {
    "id": "kxQwLXVUrsTC"
   },
   "source": [
    "**6- Arranging the data:**"
   ]
  },
  {
   "cell_type": "markdown",
   "metadata": {
    "id": "7JpBHJivr9HR"
   },
   "source": [
    "Sorting the data as we need it"
   ]
  },
  {
   "cell_type": "code",
   "execution_count": 16,
   "metadata": {
    "id": "jIR0GbSSsCKr"
   },
   "outputs": [],
   "source": [
    "earthquakes = earthquakes.sort_values(by=['Magnitude'], ascending=False)"
   ]
  },
  {
   "cell_type": "code",
   "execution_count": 17,
   "metadata": {
    "colab": {
     "base_uri": "https://localhost:8080/",
     "height": 244
    },
    "id": "lCJ5JC_-sCOo",
    "outputId": "7abebadd-3fd1-42e2-ab9d-7841c6d641b7"
   },
   "outputs": [
    {
     "data": {
      "text/html": [
       "<div>\n",
       "<style scoped>\n",
       "    .dataframe tbody tr th:only-of-type {\n",
       "        vertical-align: middle;\n",
       "    }\n",
       "\n",
       "    .dataframe tbody tr th {\n",
       "        vertical-align: top;\n",
       "    }\n",
       "\n",
       "    .dataframe thead th {\n",
       "        text-align: right;\n",
       "    }\n",
       "</style>\n",
       "<table border=\"1\" class=\"dataframe\">\n",
       "  <thead>\n",
       "    <tr style=\"text-align: right;\">\n",
       "      <th></th>\n",
       "      <th>Date</th>\n",
       "      <th>Time</th>\n",
       "      <th>Latitude</th>\n",
       "      <th>Longitude</th>\n",
       "      <th>Type</th>\n",
       "      <th>Depth</th>\n",
       "      <th>Magnitude</th>\n",
       "      <th>Magnitude Type</th>\n",
       "      <th>ID</th>\n",
       "      <th>Source</th>\n",
       "      <th>Location Source</th>\n",
       "      <th>Magnitude Source</th>\n",
       "      <th>Status</th>\n",
       "    </tr>\n",
       "  </thead>\n",
       "  <tbody>\n",
       "    <tr>\n",
       "      <th>20501</th>\n",
       "      <td>03/11/2011</td>\n",
       "      <td>05:46:24</td>\n",
       "      <td>38.297</td>\n",
       "      <td>142.373</td>\n",
       "      <td>Earthquake</td>\n",
       "      <td>29.0</td>\n",
       "      <td>9.1</td>\n",
       "      <td>MWW</td>\n",
       "      <td>OFFICIAL20110311054624120_30</td>\n",
       "      <td>OFFICIAL</td>\n",
       "      <td>US</td>\n",
       "      <td>OFFICIAL</td>\n",
       "      <td>Reviewed</td>\n",
       "    </tr>\n",
       "    <tr>\n",
       "      <th>17083</th>\n",
       "      <td>12/26/2004</td>\n",
       "      <td>00:58:53</td>\n",
       "      <td>3.295</td>\n",
       "      <td>95.982</td>\n",
       "      <td>Earthquake</td>\n",
       "      <td>30.0</td>\n",
       "      <td>9.1</td>\n",
       "      <td>MW</td>\n",
       "      <td>OFFICIAL20041226005853450_30</td>\n",
       "      <td>OFFICIAL</td>\n",
       "      <td>US</td>\n",
       "      <td>OFFICIAL</td>\n",
       "      <td>Reviewed</td>\n",
       "    </tr>\n",
       "    <tr>\n",
       "      <th>19928</th>\n",
       "      <td>02/27/2010</td>\n",
       "      <td>06:34:12</td>\n",
       "      <td>-36.122</td>\n",
       "      <td>-72.898</td>\n",
       "      <td>Earthquake</td>\n",
       "      <td>22.9</td>\n",
       "      <td>8.8</td>\n",
       "      <td>MWW</td>\n",
       "      <td>OFFICIAL20100227063411530_30</td>\n",
       "      <td>OFFICIAL</td>\n",
       "      <td>US</td>\n",
       "      <td>OFFICIAL</td>\n",
       "      <td>Reviewed</td>\n",
       "    </tr>\n",
       "    <tr>\n",
       "      <th>16</th>\n",
       "      <td>02/04/1965</td>\n",
       "      <td>05:01:22</td>\n",
       "      <td>51.251</td>\n",
       "      <td>178.715</td>\n",
       "      <td>Earthquake</td>\n",
       "      <td>30.3</td>\n",
       "      <td>8.7</td>\n",
       "      <td>MW</td>\n",
       "      <td>OFFICIAL19650204050122_30</td>\n",
       "      <td>OFFICIAL</td>\n",
       "      <td>ISCGEM</td>\n",
       "      <td>OFFICIAL</td>\n",
       "      <td>Automatic</td>\n",
       "    </tr>\n",
       "    <tr>\n",
       "      <th>17329</th>\n",
       "      <td>03/28/2005</td>\n",
       "      <td>16:09:37</td>\n",
       "      <td>2.085</td>\n",
       "      <td>97.108</td>\n",
       "      <td>Earthquake</td>\n",
       "      <td>30.0</td>\n",
       "      <td>8.6</td>\n",
       "      <td>MWW</td>\n",
       "      <td>OFFICIAL20050328160936530_30</td>\n",
       "      <td>OFFICIAL</td>\n",
       "      <td>US</td>\n",
       "      <td>OFFICIAL</td>\n",
       "      <td>Reviewed</td>\n",
       "    </tr>\n",
       "  </tbody>\n",
       "</table>\n",
       "</div>"
      ],
      "text/plain": [
       "             Date      Time  Latitude  Longitude        Type  Depth  \\\n",
       "20501  03/11/2011  05:46:24    38.297    142.373  Earthquake   29.0   \n",
       "17083  12/26/2004  00:58:53     3.295     95.982  Earthquake   30.0   \n",
       "19928  02/27/2010  06:34:12   -36.122    -72.898  Earthquake   22.9   \n",
       "16     02/04/1965  05:01:22    51.251    178.715  Earthquake   30.3   \n",
       "17329  03/28/2005  16:09:37     2.085     97.108  Earthquake   30.0   \n",
       "\n",
       "       Magnitude Magnitude Type                            ID    Source  \\\n",
       "20501        9.1            MWW  OFFICIAL20110311054624120_30  OFFICIAL   \n",
       "17083        9.1             MW  OFFICIAL20041226005853450_30  OFFICIAL   \n",
       "19928        8.8            MWW  OFFICIAL20100227063411530_30  OFFICIAL   \n",
       "16           8.7             MW     OFFICIAL19650204050122_30  OFFICIAL   \n",
       "17329        8.6            MWW  OFFICIAL20050328160936530_30  OFFICIAL   \n",
       "\n",
       "      Location Source Magnitude Source     Status  \n",
       "20501              US         OFFICIAL   Reviewed  \n",
       "17083              US         OFFICIAL   Reviewed  \n",
       "19928              US         OFFICIAL   Reviewed  \n",
       "16             ISCGEM         OFFICIAL  Automatic  \n",
       "17329              US         OFFICIAL   Reviewed  "
      ]
     },
     "execution_count": 17,
     "metadata": {},
     "output_type": "execute_result"
    }
   ],
   "source": [
    "earthquakes.head()"
   ]
  },
  {
   "cell_type": "markdown",
   "metadata": {
    "id": "YOt6nOh3sdx-"
   },
   "source": [
    "### **Phase 3: PROCESS**"
   ]
  },
  {
   "cell_type": "markdown",
   "metadata": {
    "id": "3MtNtoMAs1VI"
   },
   "source": [
    "In this phase the data will be cleaned and manipulated to make it easy and ready to be analyzed in the next phase."
   ]
  },
  {
   "cell_type": "markdown",
   "metadata": {
    "id": "PhtKzlDOs_tC"
   },
   "source": [
    "**1- Clean and Rename the Columns:**"
   ]
  },
  {
   "cell_type": "markdown",
   "metadata": {
    "id": "KbpNAGrYtHde"
   },
   "source": [
    "We will format and do some changes to the columns.\n",
    "\n",
    "*   Changing columns names\n",
    "*   format dates (converting from character to date format)\n",
    "*   Make sure columns names are unique and consistent.\n",
    "\n",
    "\n",
    "\n",
    "\n"
   ]
  },
  {
   "cell_type": "code",
   "execution_count": 18,
   "metadata": {
    "id": "--n0z8LGsK14"
   },
   "outputs": [],
   "source": [
    "# Changing the columns names\n",
    "earthquakes = earthquakes.rename(columns={\n",
    " 'Location Source': 'Location_Source',\n",
    " 'Magnitude Source': 'Magnitude_Source'\n",
    "})\n",
    "# Convert the 'date' column to datetime format\n",
    "earthquakes['Date'] = pd.to_datetime(earthquakes['Date'], utc=True)\n",
    "# Clean column names\n",
    "earthquakes = earthquakes.rename(columns=lambda x: x.lower().replace(' ', '_'))"
   ]
  },
  {
   "cell_type": "code",
   "execution_count": 19,
   "metadata": {
    "colab": {
     "base_uri": "https://localhost:8080/",
     "height": 313
    },
    "id": "q_1WOdV4sK7s",
    "outputId": "1125b076-5f71-4a0f-cec7-18dd0a3d5a10"
   },
   "outputs": [
    {
     "data": {
      "text/html": [
       "<div>\n",
       "<style scoped>\n",
       "    .dataframe tbody tr th:only-of-type {\n",
       "        vertical-align: middle;\n",
       "    }\n",
       "\n",
       "    .dataframe tbody tr th {\n",
       "        vertical-align: top;\n",
       "    }\n",
       "\n",
       "    .dataframe thead th {\n",
       "        text-align: right;\n",
       "    }\n",
       "</style>\n",
       "<table border=\"1\" class=\"dataframe\">\n",
       "  <thead>\n",
       "    <tr style=\"text-align: right;\">\n",
       "      <th></th>\n",
       "      <th>date</th>\n",
       "      <th>time</th>\n",
       "      <th>latitude</th>\n",
       "      <th>longitude</th>\n",
       "      <th>type</th>\n",
       "      <th>depth</th>\n",
       "      <th>magnitude</th>\n",
       "      <th>magnitude_type</th>\n",
       "      <th>id</th>\n",
       "      <th>source</th>\n",
       "      <th>location_source</th>\n",
       "      <th>magnitude_source</th>\n",
       "      <th>status</th>\n",
       "    </tr>\n",
       "  </thead>\n",
       "  <tbody>\n",
       "    <tr>\n",
       "      <th>20501</th>\n",
       "      <td>2011-03-11 00:00:00+00:00</td>\n",
       "      <td>05:46:24</td>\n",
       "      <td>38.297</td>\n",
       "      <td>142.373</td>\n",
       "      <td>Earthquake</td>\n",
       "      <td>29.0</td>\n",
       "      <td>9.1</td>\n",
       "      <td>MWW</td>\n",
       "      <td>OFFICIAL20110311054624120_30</td>\n",
       "      <td>OFFICIAL</td>\n",
       "      <td>US</td>\n",
       "      <td>OFFICIAL</td>\n",
       "      <td>Reviewed</td>\n",
       "    </tr>\n",
       "    <tr>\n",
       "      <th>17083</th>\n",
       "      <td>2004-12-26 00:00:00+00:00</td>\n",
       "      <td>00:58:53</td>\n",
       "      <td>3.295</td>\n",
       "      <td>95.982</td>\n",
       "      <td>Earthquake</td>\n",
       "      <td>30.0</td>\n",
       "      <td>9.1</td>\n",
       "      <td>MW</td>\n",
       "      <td>OFFICIAL20041226005853450_30</td>\n",
       "      <td>OFFICIAL</td>\n",
       "      <td>US</td>\n",
       "      <td>OFFICIAL</td>\n",
       "      <td>Reviewed</td>\n",
       "    </tr>\n",
       "    <tr>\n",
       "      <th>19928</th>\n",
       "      <td>2010-02-27 00:00:00+00:00</td>\n",
       "      <td>06:34:12</td>\n",
       "      <td>-36.122</td>\n",
       "      <td>-72.898</td>\n",
       "      <td>Earthquake</td>\n",
       "      <td>22.9</td>\n",
       "      <td>8.8</td>\n",
       "      <td>MWW</td>\n",
       "      <td>OFFICIAL20100227063411530_30</td>\n",
       "      <td>OFFICIAL</td>\n",
       "      <td>US</td>\n",
       "      <td>OFFICIAL</td>\n",
       "      <td>Reviewed</td>\n",
       "    </tr>\n",
       "    <tr>\n",
       "      <th>16</th>\n",
       "      <td>1965-02-04 00:00:00+00:00</td>\n",
       "      <td>05:01:22</td>\n",
       "      <td>51.251</td>\n",
       "      <td>178.715</td>\n",
       "      <td>Earthquake</td>\n",
       "      <td>30.3</td>\n",
       "      <td>8.7</td>\n",
       "      <td>MW</td>\n",
       "      <td>OFFICIAL19650204050122_30</td>\n",
       "      <td>OFFICIAL</td>\n",
       "      <td>ISCGEM</td>\n",
       "      <td>OFFICIAL</td>\n",
       "      <td>Automatic</td>\n",
       "    </tr>\n",
       "    <tr>\n",
       "      <th>17329</th>\n",
       "      <td>2005-03-28 00:00:00+00:00</td>\n",
       "      <td>16:09:37</td>\n",
       "      <td>2.085</td>\n",
       "      <td>97.108</td>\n",
       "      <td>Earthquake</td>\n",
       "      <td>30.0</td>\n",
       "      <td>8.6</td>\n",
       "      <td>MWW</td>\n",
       "      <td>OFFICIAL20050328160936530_30</td>\n",
       "      <td>OFFICIAL</td>\n",
       "      <td>US</td>\n",
       "      <td>OFFICIAL</td>\n",
       "      <td>Reviewed</td>\n",
       "    </tr>\n",
       "  </tbody>\n",
       "</table>\n",
       "</div>"
      ],
      "text/plain": [
       "                           date      time  latitude  longitude        type  \\\n",
       "20501 2011-03-11 00:00:00+00:00  05:46:24    38.297    142.373  Earthquake   \n",
       "17083 2004-12-26 00:00:00+00:00  00:58:53     3.295     95.982  Earthquake   \n",
       "19928 2010-02-27 00:00:00+00:00  06:34:12   -36.122    -72.898  Earthquake   \n",
       "16    1965-02-04 00:00:00+00:00  05:01:22    51.251    178.715  Earthquake   \n",
       "17329 2005-03-28 00:00:00+00:00  16:09:37     2.085     97.108  Earthquake   \n",
       "\n",
       "       depth  magnitude magnitude_type                            id  \\\n",
       "20501   29.0        9.1            MWW  OFFICIAL20110311054624120_30   \n",
       "17083   30.0        9.1             MW  OFFICIAL20041226005853450_30   \n",
       "19928   22.9        8.8            MWW  OFFICIAL20100227063411530_30   \n",
       "16      30.3        8.7             MW     OFFICIAL19650204050122_30   \n",
       "17329   30.0        8.6            MWW  OFFICIAL20050328160936530_30   \n",
       "\n",
       "         source location_source magnitude_source     status  \n",
       "20501  OFFICIAL              US         OFFICIAL   Reviewed  \n",
       "17083  OFFICIAL              US         OFFICIAL   Reviewed  \n",
       "19928  OFFICIAL              US         OFFICIAL   Reviewed  \n",
       "16     OFFICIAL          ISCGEM         OFFICIAL  Automatic  \n",
       "17329  OFFICIAL              US         OFFICIAL   Reviewed  "
      ]
     },
     "execution_count": 19,
     "metadata": {},
     "output_type": "execute_result"
    }
   ],
   "source": [
    "earthquakes.head()"
   ]
  },
  {
   "cell_type": "markdown",
   "metadata": {
    "id": "LHojkf6At8DB"
   },
   "source": [
    "**2- Duplicate values :**"
   ]
  },
  {
   "cell_type": "markdown",
   "metadata": {
    "id": "7c09oV7KuA6w"
   },
   "source": [
    "Check for duplicated data:"
   ]
  },
  {
   "cell_type": "code",
   "execution_count": 20,
   "metadata": {
    "colab": {
     "base_uri": "https://localhost:8080/",
     "height": 0
    },
    "id": "64JMebi6sLBV",
    "outputId": "8f5b5777-311d-401c-fd67-b5c31efa64a6"
   },
   "outputs": [
    {
     "data": {
      "text/plain": [
       "0"
      ]
     },
     "execution_count": 20,
     "metadata": {},
     "output_type": "execute_result"
    }
   ],
   "source": [
    "earthquakes.duplicated().sum()"
   ]
  },
  {
   "cell_type": "markdown",
   "metadata": {
    "id": "IBhDrDWjuFuU"
   },
   "source": [
    "Remove daplicated data:"
   ]
  },
  {
   "cell_type": "code",
   "execution_count": 21,
   "metadata": {
    "id": "o2oWzcamsLEu"
   },
   "outputs": [],
   "source": [
    "earthquakes = earthquakes.drop_duplicates()"
   ]
  },
  {
   "cell_type": "markdown",
   "metadata": {
    "id": "K2P7Hm3muSs8"
   },
   "source": [
    "**3- Null values:**"
   ]
  },
  {
   "cell_type": "markdown",
   "metadata": {
    "id": "BlyiswgOuYQ1"
   },
   "source": [
    "Check for null values:"
   ]
  },
  {
   "cell_type": "code",
   "execution_count": 22,
   "metadata": {
    "colab": {
     "base_uri": "https://localhost:8080/",
     "height": 0
    },
    "id": "IQMAkbIfsLIG",
    "outputId": "41a89b70-d9e2-44e0-b5b0-ffab9a601494"
   },
   "outputs": [
    {
     "data": {
      "text/plain": [
       "date                0\n",
       "time                0\n",
       "latitude            0\n",
       "longitude           0\n",
       "type                0\n",
       "depth               0\n",
       "magnitude           0\n",
       "magnitude_type      3\n",
       "id                  0\n",
       "source              0\n",
       "location_source     0\n",
       "magnitude_source    0\n",
       "status              0\n",
       "dtype: int64"
      ]
     },
     "execution_count": 22,
     "metadata": {},
     "output_type": "execute_result"
    }
   ],
   "source": [
    "earthquakes.isna().sum()"
   ]
  },
  {
   "cell_type": "markdown",
   "metadata": {
    "id": "bFPGFGtUsLOW"
   },
   "source": [
    "Remove null values:"
   ]
  },
  {
   "cell_type": "code",
   "execution_count": 23,
   "metadata": {
    "id": "_krtscgEun01"
   },
   "outputs": [],
   "source": [
    "earthquakes = earthquakes.dropna()"
   ]
  },
  {
   "cell_type": "code",
   "execution_count": 24,
   "metadata": {
    "colab": {
     "base_uri": "https://localhost:8080/",
     "height": 0
    },
    "id": "uOqctpduuqUH",
    "outputId": "7c04c519-0c77-4e9b-9ddc-561021f484c0"
   },
   "outputs": [
    {
     "data": {
      "text/plain": [
       "date                0\n",
       "time                0\n",
       "latitude            0\n",
       "longitude           0\n",
       "type                0\n",
       "depth               0\n",
       "magnitude           0\n",
       "magnitude_type      0\n",
       "id                  0\n",
       "source              0\n",
       "location_source     0\n",
       "magnitude_source    0\n",
       "status              0\n",
       "dtype: int64"
      ]
     },
     "execution_count": 24,
     "metadata": {},
     "output_type": "execute_result"
    }
   ],
   "source": [
    "earthquakes.isna().sum()"
   ]
  },
  {
   "cell_type": "markdown",
   "metadata": {
    "id": "d49reT0lsLSd"
   },
   "source": [
    "### **Phase 4: ANALYZE**"
   ]
  },
  {
   "cell_type": "markdown",
   "metadata": {
    "id": "mmLk5stksLWx"
   },
   "source": [
    "In this step we will do some transformations to the given datasets in order to extract information and knowledge."
   ]
  },
  {
   "cell_type": "markdown",
   "metadata": {
    "id": "LAfSDWj6sLa1"
   },
   "source": [
    "**1- Add a column \"year\":**"
   ]
  },
  {
   "cell_type": "code",
   "execution_count": 25,
   "metadata": {
    "id": "Q8IU1tJiwVIC"
   },
   "outputs": [],
   "source": [
    "earthquakes['years'] =  pd.to_datetime(earthquakes['date']).dt.year"
   ]
  },
  {
   "cell_type": "code",
   "execution_count": 26,
   "metadata": {
    "colab": {
     "base_uri": "https://localhost:8080/",
     "height": 313
    },
    "id": "xxFgX-XIwVOR",
    "outputId": "017771e8-c1d0-4529-9fec-a2cb2c1f14f5"
   },
   "outputs": [
    {
     "data": {
      "text/html": [
       "<div>\n",
       "<style scoped>\n",
       "    .dataframe tbody tr th:only-of-type {\n",
       "        vertical-align: middle;\n",
       "    }\n",
       "\n",
       "    .dataframe tbody tr th {\n",
       "        vertical-align: top;\n",
       "    }\n",
       "\n",
       "    .dataframe thead th {\n",
       "        text-align: right;\n",
       "    }\n",
       "</style>\n",
       "<table border=\"1\" class=\"dataframe\">\n",
       "  <thead>\n",
       "    <tr style=\"text-align: right;\">\n",
       "      <th></th>\n",
       "      <th>date</th>\n",
       "      <th>time</th>\n",
       "      <th>latitude</th>\n",
       "      <th>longitude</th>\n",
       "      <th>type</th>\n",
       "      <th>depth</th>\n",
       "      <th>magnitude</th>\n",
       "      <th>magnitude_type</th>\n",
       "      <th>id</th>\n",
       "      <th>source</th>\n",
       "      <th>location_source</th>\n",
       "      <th>magnitude_source</th>\n",
       "      <th>status</th>\n",
       "      <th>years</th>\n",
       "    </tr>\n",
       "  </thead>\n",
       "  <tbody>\n",
       "    <tr>\n",
       "      <th>20501</th>\n",
       "      <td>2011-03-11 00:00:00+00:00</td>\n",
       "      <td>05:46:24</td>\n",
       "      <td>38.297</td>\n",
       "      <td>142.373</td>\n",
       "      <td>Earthquake</td>\n",
       "      <td>29.0</td>\n",
       "      <td>9.1</td>\n",
       "      <td>MWW</td>\n",
       "      <td>OFFICIAL20110311054624120_30</td>\n",
       "      <td>OFFICIAL</td>\n",
       "      <td>US</td>\n",
       "      <td>OFFICIAL</td>\n",
       "      <td>Reviewed</td>\n",
       "      <td>2011</td>\n",
       "    </tr>\n",
       "    <tr>\n",
       "      <th>17083</th>\n",
       "      <td>2004-12-26 00:00:00+00:00</td>\n",
       "      <td>00:58:53</td>\n",
       "      <td>3.295</td>\n",
       "      <td>95.982</td>\n",
       "      <td>Earthquake</td>\n",
       "      <td>30.0</td>\n",
       "      <td>9.1</td>\n",
       "      <td>MW</td>\n",
       "      <td>OFFICIAL20041226005853450_30</td>\n",
       "      <td>OFFICIAL</td>\n",
       "      <td>US</td>\n",
       "      <td>OFFICIAL</td>\n",
       "      <td>Reviewed</td>\n",
       "      <td>2004</td>\n",
       "    </tr>\n",
       "    <tr>\n",
       "      <th>19928</th>\n",
       "      <td>2010-02-27 00:00:00+00:00</td>\n",
       "      <td>06:34:12</td>\n",
       "      <td>-36.122</td>\n",
       "      <td>-72.898</td>\n",
       "      <td>Earthquake</td>\n",
       "      <td>22.9</td>\n",
       "      <td>8.8</td>\n",
       "      <td>MWW</td>\n",
       "      <td>OFFICIAL20100227063411530_30</td>\n",
       "      <td>OFFICIAL</td>\n",
       "      <td>US</td>\n",
       "      <td>OFFICIAL</td>\n",
       "      <td>Reviewed</td>\n",
       "      <td>2010</td>\n",
       "    </tr>\n",
       "    <tr>\n",
       "      <th>16</th>\n",
       "      <td>1965-02-04 00:00:00+00:00</td>\n",
       "      <td>05:01:22</td>\n",
       "      <td>51.251</td>\n",
       "      <td>178.715</td>\n",
       "      <td>Earthquake</td>\n",
       "      <td>30.3</td>\n",
       "      <td>8.7</td>\n",
       "      <td>MW</td>\n",
       "      <td>OFFICIAL19650204050122_30</td>\n",
       "      <td>OFFICIAL</td>\n",
       "      <td>ISCGEM</td>\n",
       "      <td>OFFICIAL</td>\n",
       "      <td>Automatic</td>\n",
       "      <td>1965</td>\n",
       "    </tr>\n",
       "    <tr>\n",
       "      <th>17329</th>\n",
       "      <td>2005-03-28 00:00:00+00:00</td>\n",
       "      <td>16:09:37</td>\n",
       "      <td>2.085</td>\n",
       "      <td>97.108</td>\n",
       "      <td>Earthquake</td>\n",
       "      <td>30.0</td>\n",
       "      <td>8.6</td>\n",
       "      <td>MWW</td>\n",
       "      <td>OFFICIAL20050328160936530_30</td>\n",
       "      <td>OFFICIAL</td>\n",
       "      <td>US</td>\n",
       "      <td>OFFICIAL</td>\n",
       "      <td>Reviewed</td>\n",
       "      <td>2005</td>\n",
       "    </tr>\n",
       "  </tbody>\n",
       "</table>\n",
       "</div>"
      ],
      "text/plain": [
       "                           date      time  latitude  longitude        type  \\\n",
       "20501 2011-03-11 00:00:00+00:00  05:46:24    38.297    142.373  Earthquake   \n",
       "17083 2004-12-26 00:00:00+00:00  00:58:53     3.295     95.982  Earthquake   \n",
       "19928 2010-02-27 00:00:00+00:00  06:34:12   -36.122    -72.898  Earthquake   \n",
       "16    1965-02-04 00:00:00+00:00  05:01:22    51.251    178.715  Earthquake   \n",
       "17329 2005-03-28 00:00:00+00:00  16:09:37     2.085     97.108  Earthquake   \n",
       "\n",
       "       depth  magnitude magnitude_type                            id  \\\n",
       "20501   29.0        9.1            MWW  OFFICIAL20110311054624120_30   \n",
       "17083   30.0        9.1             MW  OFFICIAL20041226005853450_30   \n",
       "19928   22.9        8.8            MWW  OFFICIAL20100227063411530_30   \n",
       "16      30.3        8.7             MW     OFFICIAL19650204050122_30   \n",
       "17329   30.0        8.6            MWW  OFFICIAL20050328160936530_30   \n",
       "\n",
       "         source location_source magnitude_source     status  years  \n",
       "20501  OFFICIAL              US         OFFICIAL   Reviewed   2011  \n",
       "17083  OFFICIAL              US         OFFICIAL   Reviewed   2004  \n",
       "19928  OFFICIAL              US         OFFICIAL   Reviewed   2010  \n",
       "16     OFFICIAL          ISCGEM         OFFICIAL  Automatic   1965  \n",
       "17329  OFFICIAL              US         OFFICIAL   Reviewed   2005  "
      ]
     },
     "execution_count": 26,
     "metadata": {},
     "output_type": "execute_result"
    }
   ],
   "source": [
    "earthquakes.head()"
   ]
  },
  {
   "cell_type": "markdown",
   "metadata": {
    "id": "cfxKqA8YElcW"
   },
   "source": [
    "**2- The maximum magnitude and depth:**"
   ]
  },
  {
   "cell_type": "markdown",
   "metadata": {
    "id": "uNM6WSs1EodZ"
   },
   "source": [
    "a - Magnitude:"
   ]
  },
  {
   "cell_type": "code",
   "execution_count": 27,
   "metadata": {
    "colab": {
     "base_uri": "https://localhost:8080/",
     "height": 0
    },
    "id": "2hpBVYz1Eemu",
    "outputId": "2255df13-a8ba-4e87-e32f-c460bcb946d4"
   },
   "outputs": [
    {
     "data": {
      "text/plain": [
       "date                   2011-03-11 00:00:00+00:00\n",
       "time                                    05:46:24\n",
       "latitude                                  38.297\n",
       "longitude                                142.373\n",
       "type                                  Earthquake\n",
       "depth                                       29.0\n",
       "magnitude                                    9.1\n",
       "magnitude_type                               MWW\n",
       "id                  OFFICIAL20110311054624120_30\n",
       "source                                  OFFICIAL\n",
       "location_source                               US\n",
       "magnitude_source                        OFFICIAL\n",
       "status                                  Reviewed\n",
       "years                                       2011\n",
       "Name: 20501, dtype: object"
      ]
     },
     "execution_count": 27,
     "metadata": {},
     "output_type": "execute_result"
    }
   ],
   "source": [
    "# Find the row with the maximum value in magnitude column\n",
    "max_magnitude = earthquakes.loc[earthquakes['magnitude'].idxmax()]\n",
    "max_magnitude"
   ]
  },
  {
   "cell_type": "code",
   "execution_count": 28,
   "metadata": {
    "colab": {
     "base_uri": "https://localhost:8080/",
     "height": 0
    },
    "id": "LV8O5dXPNRUk",
    "outputId": "81b5f1c5-905f-4ab9-aac2-c73594a60e8a"
   },
   "outputs": [
    {
     "name": "stdout",
     "output_type": "stream",
     "text": [
      " The maximum magnitude is : 9.1\n"
     ]
    }
   ],
   "source": [
    "print(f' The maximum magnitude is : {max_magnitude.magnitude}')"
   ]
  },
  {
   "cell_type": "markdown",
   "metadata": {
    "id": "C2kOcz8AFSRX"
   },
   "source": [
    "b - Depth:"
   ]
  },
  {
   "cell_type": "code",
   "execution_count": 29,
   "metadata": {
    "colab": {
     "base_uri": "https://localhost:8080/",
     "height": 0
    },
    "id": "Dly3xeEGFvqS",
    "outputId": "56593f1a-1050-4a50-9c74-2c0bb9caad0f"
   },
   "outputs": [
    {
     "data": {
      "text/plain": [
       "date                1985-10-22 00:00:00+00:00\n",
       "time                                 19:14:02\n",
       "latitude                              -20.158\n",
       "longitude                            -179.163\n",
       "type                               Earthquake\n",
       "depth                                   700.0\n",
       "magnitude                                 5.5\n",
       "magnitude_type                             MB\n",
       "id                                 USP0002M15\n",
       "source                                     US\n",
       "location_source                            US\n",
       "magnitude_source                           US\n",
       "status                               Reviewed\n",
       "years                                    1985\n",
       "Name: 7734, dtype: object"
      ]
     },
     "execution_count": 29,
     "metadata": {},
     "output_type": "execute_result"
    }
   ],
   "source": [
    "# Find the row with the maximum value in depth\n",
    "max_depth = earthquakes.loc[earthquakes['depth'].idxmax()]\n",
    "max_depth"
   ]
  },
  {
   "cell_type": "code",
   "execution_count": 30,
   "metadata": {
    "colab": {
     "base_uri": "https://localhost:8080/",
     "height": 0
    },
    "id": "3Tv1t_lgM_eT",
    "outputId": "6e3a87e6-81ec-4bb9-8d80-cfedadf6abdc"
   },
   "outputs": [
    {
     "name": "stdout",
     "output_type": "stream",
     "text": [
      " The maximum depth is : 700.0\n"
     ]
    }
   ],
   "source": [
    "print(f' The maximum depth is : {max_depth.depth}')"
   ]
  },
  {
   "cell_type": "markdown",
   "metadata": {
    "id": "XGb8dtNQFzLE"
   },
   "source": [
    "**3- The minimum magnitude and depth:**"
   ]
  },
  {
   "cell_type": "markdown",
   "metadata": {
    "id": "nvSTxjhoF412"
   },
   "source": [
    "a - Magnitude:"
   ]
  },
  {
   "cell_type": "code",
   "execution_count": 31,
   "metadata": {
    "colab": {
     "base_uri": "https://localhost:8080/",
     "height": 0
    },
    "id": "VPmHmdxRGA_X",
    "outputId": "662fa327-f73b-4d31-a8d4-43846d4dbf65"
   },
   "outputs": [
    {
     "data": {
      "text/plain": [
       "date                1979-12-12 00:00:00+00:00\n",
       "time                                 08:14:50\n",
       "latitude                                2.149\n",
       "longitude                             -79.393\n",
       "type                               Earthquake\n",
       "depth                                    33.0\n",
       "magnitude                                 5.5\n",
       "magnitude_type                             MB\n",
       "id                                 USP00014EZ\n",
       "source                                     US\n",
       "location_source                            US\n",
       "magnitude_source                           US\n",
       "status                               Reviewed\n",
       "years                                    1979\n",
       "Name: 5375, dtype: object"
      ]
     },
     "execution_count": 31,
     "metadata": {},
     "output_type": "execute_result"
    }
   ],
   "source": [
    "# Find the row with the minimum value in column magnitude\n",
    "min_magnitude_record = earthquakes.loc[earthquakes['magnitude'].idxmin()]\n",
    "min_magnitude_record"
   ]
  },
  {
   "cell_type": "code",
   "execution_count": 32,
   "metadata": {
    "colab": {
     "base_uri": "https://localhost:8080/",
     "height": 0
    },
    "id": "AZ8HKLNFXA_G",
    "outputId": "c36f52dd-4950-40c7-e329-abf97acd7034"
   },
   "outputs": [
    {
     "name": "stdout",
     "output_type": "stream",
     "text": [
      " The minimum magnitude is : 5.5\n"
     ]
    }
   ],
   "source": [
    "print(f' The minimum magnitude is : {min_magnitude_record.magnitude}')"
   ]
  },
  {
   "cell_type": "markdown",
   "metadata": {
    "id": "_mRIDDnWF5AS"
   },
   "source": [
    "b - Depth:"
   ]
  },
  {
   "cell_type": "code",
   "execution_count": 33,
   "metadata": {
    "colab": {
     "base_uri": "https://localhost:8080/",
     "height": 0
    },
    "id": "ZL9stVv8Gefi",
    "outputId": "7e2a0e70-a639-4969-ff95-4fb97178eb6a"
   },
   "outputs": [
    {
     "data": {
      "text/plain": [
       "date                1992-06-28 00:00:00+00:00\n",
       "time                                 12:00:45\n",
       "latitude                               34.131\n",
       "longitude                            -116.408\n",
       "type                               Earthquake\n",
       "depth                                    -1.1\n",
       "magnitude                                5.77\n",
       "magnitude_type                             ML\n",
       "id                                  CI3043549\n",
       "source                                     CI\n",
       "location_source                            CI\n",
       "magnitude_source                           CI\n",
       "status                               Reviewed\n",
       "years                                    1992\n",
       "Name: 10978, dtype: object"
      ]
     },
     "execution_count": 33,
     "metadata": {},
     "output_type": "execute_result"
    }
   ],
   "source": [
    "min_depth_record = earthquakes.loc[earthquakes['depth'].idxmin()]\n",
    "min_depth_record"
   ]
  },
  {
   "cell_type": "code",
   "execution_count": 34,
   "metadata": {
    "colab": {
     "base_uri": "https://localhost:8080/",
     "height": 0
    },
    "id": "CRI5VXktcGe_",
    "outputId": "b4a7ede0-7c0d-4597-9b00-5230519667d6"
   },
   "outputs": [
    {
     "name": "stdout",
     "output_type": "stream",
     "text": [
      " The mininmum depth is : -1.1\n"
     ]
    }
   ],
   "source": [
    "print(f' The mininmum depth is : {min_depth_record.depth}')"
   ]
  },
  {
   "cell_type": "markdown",
   "metadata": {
    "id": "NrPVmYcyF5Hi"
   },
   "source": [
    "**4- The average of magnitude and depth:**"
   ]
  },
  {
   "cell_type": "markdown",
   "metadata": {
    "id": "oW1XPcFPF5OW"
   },
   "source": [
    "a- Magnitude:"
   ]
  },
  {
   "cell_type": "code",
   "execution_count": 35,
   "metadata": {
    "colab": {
     "base_uri": "https://localhost:8080/",
     "height": 0
    },
    "id": "ULMEFzSZGzEh",
    "outputId": "25efcdfe-1ef0-4656-8c47-599755eaeb86"
   },
   "outputs": [
    {
     "name": "stdout",
     "output_type": "stream",
     "text": [
      " The average magnitude is : 5.882553291469093\n"
     ]
    }
   ],
   "source": [
    "average_magnitude_record = earthquakes['magnitude'].mean()\n",
    "print(f' The average magnitude is : {average_magnitude_record}')"
   ]
  },
  {
   "cell_type": "markdown",
   "metadata": {
    "id": "IRxSOhKqHBKL"
   },
   "source": [
    "b- Depth:"
   ]
  },
  {
   "cell_type": "code",
   "execution_count": 36,
   "metadata": {
    "colab": {
     "base_uri": "https://localhost:8080/",
     "height": 0
    },
    "id": "tKhPmE6LF5V3",
    "outputId": "ac87bc52-de61-4c63-adde-2a08f2e32f9a"
   },
   "outputs": [
    {
     "name": "stdout",
     "output_type": "stream",
     "text": [
      " The average depth is : 70.77569473279509\n"
     ]
    }
   ],
   "source": [
    "average_depth_record = earthquakes['depth'].mean()\n",
    "print(f' The average depth is : {average_depth_record}')"
   ]
  },
  {
   "cell_type": "markdown",
   "metadata": {
    "id": "XSDcgaJpHL4-"
   },
   "source": [
    "**5 - Check for correlation:**"
   ]
  },
  {
   "cell_type": "markdown",
   "metadata": {
    "id": "1kshveX2HgLF"
   },
   "source": [
    "Check for all variables:"
   ]
  },
  {
   "cell_type": "code",
   "execution_count": 37,
   "metadata": {
    "colab": {
     "base_uri": "https://localhost:8080/",
     "height": 0
    },
    "id": "Glnl5XQ3F5bs",
    "outputId": "b808077c-1dde-4c96-8b2b-d2deb8a77544"
   },
   "outputs": [
    {
     "name": "stdout",
     "output_type": "stream",
     "text": [
      "Correlation Matrix:\n",
      "           latitude  longitude     depth  magnitude     years\n",
      "latitude   1.000000   0.203789 -0.080951   0.035055 -0.076232\n",
      "longitude  0.203789   1.000000 -0.085953   0.038514 -0.037551\n",
      "depth     -0.080951  -0.085953  1.000000   0.023432 -0.024041\n",
      "magnitude  0.035055   0.038514  0.023432   1.000000 -0.032045\n",
      "years     -0.076232  -0.037551 -0.024041  -0.032045  1.000000\n"
     ]
    },
    {
     "name": "stderr",
     "output_type": "stream",
     "text": [
      "C:\\Users\\Admin\\AppData\\Local\\Temp\\ipykernel_13116\\3080497820.py:1: FutureWarning: The default value of numeric_only in DataFrame.corr is deprecated. In a future version, it will default to False. Select only valid columns or specify the value of numeric_only to silence this warning.\n",
      "  correlation_matrix = earthquakes.corr()\n"
     ]
    }
   ],
   "source": [
    "correlation_matrix = earthquakes.corr()\n",
    "# Display the correlation matrix\n",
    "print(\"Correlation Matrix:\")\n",
    "print(correlation_matrix)"
   ]
  },
  {
   "cell_type": "markdown",
   "metadata": {
    "id": "6AZzQ_UdHoyg"
   },
   "source": [
    "**6 - The top 3 highest magnitude records**"
   ]
  },
  {
   "cell_type": "code",
   "execution_count": 38,
   "metadata": {
    "colab": {
     "base_uri": "https://localhost:8080/",
     "height": 233
    },
    "id": "i26DJDJRF5hw",
    "outputId": "9007e76f-a7c0-4c1b-b43a-b5a991191f13"
   },
   "outputs": [
    {
     "name": "stdout",
     "output_type": "stream",
     "text": [
      "Top 3 Maximum Records of Magnitude:\n"
     ]
    },
    {
     "data": {
      "text/html": [
       "<div>\n",
       "<style scoped>\n",
       "    .dataframe tbody tr th:only-of-type {\n",
       "        vertical-align: middle;\n",
       "    }\n",
       "\n",
       "    .dataframe tbody tr th {\n",
       "        vertical-align: top;\n",
       "    }\n",
       "\n",
       "    .dataframe thead th {\n",
       "        text-align: right;\n",
       "    }\n",
       "</style>\n",
       "<table border=\"1\" class=\"dataframe\">\n",
       "  <thead>\n",
       "    <tr style=\"text-align: right;\">\n",
       "      <th></th>\n",
       "      <th>date</th>\n",
       "      <th>time</th>\n",
       "      <th>latitude</th>\n",
       "      <th>longitude</th>\n",
       "      <th>type</th>\n",
       "      <th>depth</th>\n",
       "      <th>magnitude</th>\n",
       "      <th>magnitude_type</th>\n",
       "      <th>id</th>\n",
       "      <th>source</th>\n",
       "      <th>location_source</th>\n",
       "      <th>magnitude_source</th>\n",
       "      <th>status</th>\n",
       "      <th>years</th>\n",
       "    </tr>\n",
       "  </thead>\n",
       "  <tbody>\n",
       "    <tr>\n",
       "      <th>20501</th>\n",
       "      <td>2011-03-11 00:00:00+00:00</td>\n",
       "      <td>05:46:24</td>\n",
       "      <td>38.297</td>\n",
       "      <td>142.373</td>\n",
       "      <td>Earthquake</td>\n",
       "      <td>29.0</td>\n",
       "      <td>9.1</td>\n",
       "      <td>MWW</td>\n",
       "      <td>OFFICIAL20110311054624120_30</td>\n",
       "      <td>OFFICIAL</td>\n",
       "      <td>US</td>\n",
       "      <td>OFFICIAL</td>\n",
       "      <td>Reviewed</td>\n",
       "      <td>2011</td>\n",
       "    </tr>\n",
       "    <tr>\n",
       "      <th>17083</th>\n",
       "      <td>2004-12-26 00:00:00+00:00</td>\n",
       "      <td>00:58:53</td>\n",
       "      <td>3.295</td>\n",
       "      <td>95.982</td>\n",
       "      <td>Earthquake</td>\n",
       "      <td>30.0</td>\n",
       "      <td>9.1</td>\n",
       "      <td>MW</td>\n",
       "      <td>OFFICIAL20041226005853450_30</td>\n",
       "      <td>OFFICIAL</td>\n",
       "      <td>US</td>\n",
       "      <td>OFFICIAL</td>\n",
       "      <td>Reviewed</td>\n",
       "      <td>2004</td>\n",
       "    </tr>\n",
       "    <tr>\n",
       "      <th>19928</th>\n",
       "      <td>2010-02-27 00:00:00+00:00</td>\n",
       "      <td>06:34:12</td>\n",
       "      <td>-36.122</td>\n",
       "      <td>-72.898</td>\n",
       "      <td>Earthquake</td>\n",
       "      <td>22.9</td>\n",
       "      <td>8.8</td>\n",
       "      <td>MWW</td>\n",
       "      <td>OFFICIAL20100227063411530_30</td>\n",
       "      <td>OFFICIAL</td>\n",
       "      <td>US</td>\n",
       "      <td>OFFICIAL</td>\n",
       "      <td>Reviewed</td>\n",
       "      <td>2010</td>\n",
       "    </tr>\n",
       "  </tbody>\n",
       "</table>\n",
       "</div>"
      ],
      "text/plain": [
       "                           date      time  latitude  longitude        type  \\\n",
       "20501 2011-03-11 00:00:00+00:00  05:46:24    38.297    142.373  Earthquake   \n",
       "17083 2004-12-26 00:00:00+00:00  00:58:53     3.295     95.982  Earthquake   \n",
       "19928 2010-02-27 00:00:00+00:00  06:34:12   -36.122    -72.898  Earthquake   \n",
       "\n",
       "       depth  magnitude magnitude_type                            id  \\\n",
       "20501   29.0        9.1            MWW  OFFICIAL20110311054624120_30   \n",
       "17083   30.0        9.1             MW  OFFICIAL20041226005853450_30   \n",
       "19928   22.9        8.8            MWW  OFFICIAL20100227063411530_30   \n",
       "\n",
       "         source location_source magnitude_source    status  years  \n",
       "20501  OFFICIAL              US         OFFICIAL  Reviewed   2011  \n",
       "17083  OFFICIAL              US         OFFICIAL  Reviewed   2004  \n",
       "19928  OFFICIAL              US         OFFICIAL  Reviewed   2010  "
      ]
     },
     "execution_count": 38,
     "metadata": {},
     "output_type": "execute_result"
    }
   ],
   "source": [
    "# Extract the top 3 maximum records of the magnitude\n",
    "top_3_max_records = earthquakes.nlargest(3, 'magnitude')\n",
    "\n",
    "# Display the top 3 maximum records\n",
    "print(\"Top 3 Maximum Records of Magnitude:\")\n",
    "top_3_max_records.head()"
   ]
  },
  {
   "cell_type": "markdown",
   "metadata": {
    "id": "bA5AZY16H0OU"
   },
   "source": [
    "**7 - The top 3 lowest magnitude records**  "
   ]
  },
  {
   "cell_type": "code",
   "execution_count": 39,
   "metadata": {
    "colab": {
     "base_uri": "https://localhost:8080/",
     "height": 233
    },
    "id": "ij6NhVMNIHkV",
    "outputId": "d865952c-e960-4c8b-f4bd-cd55b63f66ca"
   },
   "outputs": [
    {
     "name": "stdout",
     "output_type": "stream",
     "text": [
      "Top 3 Smallest Records of Column2:\n"
     ]
    },
    {
     "data": {
      "text/html": [
       "<div>\n",
       "<style scoped>\n",
       "    .dataframe tbody tr th:only-of-type {\n",
       "        vertical-align: middle;\n",
       "    }\n",
       "\n",
       "    .dataframe tbody tr th {\n",
       "        vertical-align: top;\n",
       "    }\n",
       "\n",
       "    .dataframe thead th {\n",
       "        text-align: right;\n",
       "    }\n",
       "</style>\n",
       "<table border=\"1\" class=\"dataframe\">\n",
       "  <thead>\n",
       "    <tr style=\"text-align: right;\">\n",
       "      <th></th>\n",
       "      <th>date</th>\n",
       "      <th>time</th>\n",
       "      <th>latitude</th>\n",
       "      <th>longitude</th>\n",
       "      <th>type</th>\n",
       "      <th>depth</th>\n",
       "      <th>magnitude</th>\n",
       "      <th>magnitude_type</th>\n",
       "      <th>id</th>\n",
       "      <th>source</th>\n",
       "      <th>location_source</th>\n",
       "      <th>magnitude_source</th>\n",
       "      <th>status</th>\n",
       "      <th>years</th>\n",
       "    </tr>\n",
       "  </thead>\n",
       "  <tbody>\n",
       "    <tr>\n",
       "      <th>5375</th>\n",
       "      <td>1979-12-12 00:00:00+00:00</td>\n",
       "      <td>08:14:50</td>\n",
       "      <td>2.149</td>\n",
       "      <td>-79.393</td>\n",
       "      <td>Earthquake</td>\n",
       "      <td>33.0</td>\n",
       "      <td>5.5</td>\n",
       "      <td>MB</td>\n",
       "      <td>USP00014EZ</td>\n",
       "      <td>US</td>\n",
       "      <td>US</td>\n",
       "      <td>US</td>\n",
       "      <td>Reviewed</td>\n",
       "      <td>1979</td>\n",
       "    </tr>\n",
       "    <tr>\n",
       "      <th>6238</th>\n",
       "      <td>1982-07-10 00:00:00+00:00</td>\n",
       "      <td>12:04:40</td>\n",
       "      <td>-55.985</td>\n",
       "      <td>146.843</td>\n",
       "      <td>Earthquake</td>\n",
       "      <td>10.0</td>\n",
       "      <td>5.5</td>\n",
       "      <td>MS</td>\n",
       "      <td>USP0001NBM</td>\n",
       "      <td>US</td>\n",
       "      <td>US</td>\n",
       "      <td>US</td>\n",
       "      <td>Reviewed</td>\n",
       "      <td>1982</td>\n",
       "    </tr>\n",
       "    <tr>\n",
       "      <th>6256</th>\n",
       "      <td>1982-08-06 00:00:00+00:00</td>\n",
       "      <td>20:46:14</td>\n",
       "      <td>-8.319</td>\n",
       "      <td>120.416</td>\n",
       "      <td>Earthquake</td>\n",
       "      <td>49.9</td>\n",
       "      <td>5.5</td>\n",
       "      <td>MB</td>\n",
       "      <td>USP0001NVY</td>\n",
       "      <td>US</td>\n",
       "      <td>US</td>\n",
       "      <td>US</td>\n",
       "      <td>Reviewed</td>\n",
       "      <td>1982</td>\n",
       "    </tr>\n",
       "  </tbody>\n",
       "</table>\n",
       "</div>"
      ],
      "text/plain": [
       "                          date      time  latitude  longitude        type  \\\n",
       "5375 1979-12-12 00:00:00+00:00  08:14:50     2.149    -79.393  Earthquake   \n",
       "6238 1982-07-10 00:00:00+00:00  12:04:40   -55.985    146.843  Earthquake   \n",
       "6256 1982-08-06 00:00:00+00:00  20:46:14    -8.319    120.416  Earthquake   \n",
       "\n",
       "      depth  magnitude magnitude_type          id source location_source  \\\n",
       "5375   33.0        5.5             MB  USP00014EZ     US              US   \n",
       "6238   10.0        5.5             MS  USP0001NBM     US              US   \n",
       "6256   49.9        5.5             MB  USP0001NVY     US              US   \n",
       "\n",
       "     magnitude_source    status  years  \n",
       "5375               US  Reviewed   1979  \n",
       "6238               US  Reviewed   1982  \n",
       "6256               US  Reviewed   1982  "
      ]
     },
     "execution_count": 39,
     "metadata": {},
     "output_type": "execute_result"
    }
   ],
   "source": [
    "# Extract the 3 smallest records of magnitude\n",
    "top_3_min_records = earthquakes.nsmallest(3, 'magnitude')\n",
    "# Display the 3 smallest records\n",
    "print(\"Top 3 Smallest Records of Column2:\")\n",
    "top_3_min_records"
   ]
  },
  {
   "cell_type": "markdown",
   "metadata": {
    "id": "beCxxMaefNE9"
   },
   "source": [
    "**8- Add a column that represents the countries that coresspond to the latitudes and longitudes:** :"
   ]
  },
  {
   "cell_type": "code",
   "execution_count": 40,
   "metadata": {
    "colab": {
     "base_uri": "https://localhost:8080/",
     "height": 216
    },
    "id": "D-fuZgdmfZiQ",
    "outputId": "90b5e0cf-11d6-4d66-9772-99a2eba06fbf"
   },
   "outputs": [
    {
     "data": {
      "text/html": [
       "<div>\n",
       "<style scoped>\n",
       "    .dataframe tbody tr th:only-of-type {\n",
       "        vertical-align: middle;\n",
       "    }\n",
       "\n",
       "    .dataframe tbody tr th {\n",
       "        vertical-align: top;\n",
       "    }\n",
       "\n",
       "    .dataframe thead th {\n",
       "        text-align: right;\n",
       "    }\n",
       "</style>\n",
       "<table border=\"1\" class=\"dataframe\">\n",
       "  <thead>\n",
       "    <tr style=\"text-align: right;\">\n",
       "      <th></th>\n",
       "      <th>date</th>\n",
       "      <th>time</th>\n",
       "      <th>latitude</th>\n",
       "      <th>longitude</th>\n",
       "      <th>type</th>\n",
       "      <th>depth</th>\n",
       "      <th>magnitude</th>\n",
       "      <th>magnitude_type</th>\n",
       "      <th>id</th>\n",
       "      <th>source</th>\n",
       "      <th>location_source</th>\n",
       "      <th>magnitude_source</th>\n",
       "      <th>status</th>\n",
       "      <th>years</th>\n",
       "      <th>Country</th>\n",
       "    </tr>\n",
       "  </thead>\n",
       "  <tbody>\n",
       "    <tr>\n",
       "      <th>20501</th>\n",
       "      <td>2011-03-11 00:00:00+00:00</td>\n",
       "      <td>05:46:24</td>\n",
       "      <td>38.297</td>\n",
       "      <td>142.373</td>\n",
       "      <td>Earthquake</td>\n",
       "      <td>29.0</td>\n",
       "      <td>9.1</td>\n",
       "      <td>MWW</td>\n",
       "      <td>OFFICIAL20110311054624120_30</td>\n",
       "      <td>OFFICIAL</td>\n",
       "      <td>US</td>\n",
       "      <td>OFFICIAL</td>\n",
       "      <td>Reviewed</td>\n",
       "      <td>2011</td>\n",
       "      <td>Unknown</td>\n",
       "    </tr>\n",
       "    <tr>\n",
       "      <th>17083</th>\n",
       "      <td>2004-12-26 00:00:00+00:00</td>\n",
       "      <td>00:58:53</td>\n",
       "      <td>3.295</td>\n",
       "      <td>95.982</td>\n",
       "      <td>Earthquake</td>\n",
       "      <td>30.0</td>\n",
       "      <td>9.1</td>\n",
       "      <td>MW</td>\n",
       "      <td>OFFICIAL20041226005853450_30</td>\n",
       "      <td>OFFICIAL</td>\n",
       "      <td>US</td>\n",
       "      <td>OFFICIAL</td>\n",
       "      <td>Reviewed</td>\n",
       "      <td>2004</td>\n",
       "      <td>Indonesia</td>\n",
       "    </tr>\n",
       "    <tr>\n",
       "      <th>19928</th>\n",
       "      <td>2010-02-27 00:00:00+00:00</td>\n",
       "      <td>06:34:12</td>\n",
       "      <td>-36.122</td>\n",
       "      <td>-72.898</td>\n",
       "      <td>Earthquake</td>\n",
       "      <td>22.9</td>\n",
       "      <td>8.8</td>\n",
       "      <td>MWW</td>\n",
       "      <td>OFFICIAL20100227063411530_30</td>\n",
       "      <td>OFFICIAL</td>\n",
       "      <td>US</td>\n",
       "      <td>OFFICIAL</td>\n",
       "      <td>Reviewed</td>\n",
       "      <td>2010</td>\n",
       "      <td>Chile</td>\n",
       "    </tr>\n",
       "  </tbody>\n",
       "</table>\n",
       "</div>"
      ],
      "text/plain": [
       "                           date      time  latitude  longitude        type  \\\n",
       "20501 2011-03-11 00:00:00+00:00  05:46:24    38.297    142.373  Earthquake   \n",
       "17083 2004-12-26 00:00:00+00:00  00:58:53     3.295     95.982  Earthquake   \n",
       "19928 2010-02-27 00:00:00+00:00  06:34:12   -36.122    -72.898  Earthquake   \n",
       "\n",
       "       depth  magnitude magnitude_type                            id  \\\n",
       "20501   29.0        9.1            MWW  OFFICIAL20110311054624120_30   \n",
       "17083   30.0        9.1             MW  OFFICIAL20041226005853450_30   \n",
       "19928   22.9        8.8            MWW  OFFICIAL20100227063411530_30   \n",
       "\n",
       "         source location_source magnitude_source    status  years    Country  \n",
       "20501  OFFICIAL              US         OFFICIAL  Reviewed   2011    Unknown  \n",
       "17083  OFFICIAL              US         OFFICIAL  Reviewed   2004  Indonesia  \n",
       "19928  OFFICIAL              US         OFFICIAL  Reviewed   2010      Chile  "
      ]
     },
     "execution_count": 40,
     "metadata": {},
     "output_type": "execute_result"
    }
   ],
   "source": [
    "# Initialize geolocator\n",
    "geolocator = Nominatim(user_agent=\"my_geocoder\")\n",
    "\n",
    "# Function to get country name from coordinates with error handling\n",
    "def get_country_name(row):\n",
    "    try:\n",
    "        location = geolocator.reverse((row['latitude'], row['longitude']), language='en')\n",
    "        if location is not None and 'address' in location.raw and 'country' in location.raw['address']:\n",
    "            return location.raw['address']['country']\n",
    "        else:\n",
    "            return 'Unknown'\n",
    "    except Exception as e:\n",
    "        # Handle the exception, e.g., print an error message and return a default value\n",
    "        print(f\"Error: {e}\")\n",
    "        return 'Unknown'\n",
    "\n",
    "# Add a new column 'Country' to the DataFrame\n",
    "top_3_max_records['Country'] = top_3_max_records.apply(get_country_name, axis=1)\n",
    "top_3_min_records['Country'] = top_3_min_records.apply(get_country_name, axis=1)\n",
    "# Display the updated DataFrame\n",
    "top_3_max_records.head()\n"
   ]
  },
  {
   "cell_type": "code",
   "execution_count": 41,
   "metadata": {
    "colab": {
     "base_uri": "https://localhost:8080/",
     "height": 216
    },
    "id": "k_YB_0D5oCY6",
    "outputId": "27872c42-ef2a-4f06-c9e6-9588cc271163"
   },
   "outputs": [
    {
     "data": {
      "text/html": [
       "<div>\n",
       "<style scoped>\n",
       "    .dataframe tbody tr th:only-of-type {\n",
       "        vertical-align: middle;\n",
       "    }\n",
       "\n",
       "    .dataframe tbody tr th {\n",
       "        vertical-align: top;\n",
       "    }\n",
       "\n",
       "    .dataframe thead th {\n",
       "        text-align: right;\n",
       "    }\n",
       "</style>\n",
       "<table border=\"1\" class=\"dataframe\">\n",
       "  <thead>\n",
       "    <tr style=\"text-align: right;\">\n",
       "      <th></th>\n",
       "      <th>date</th>\n",
       "      <th>time</th>\n",
       "      <th>latitude</th>\n",
       "      <th>longitude</th>\n",
       "      <th>type</th>\n",
       "      <th>depth</th>\n",
       "      <th>magnitude</th>\n",
       "      <th>magnitude_type</th>\n",
       "      <th>id</th>\n",
       "      <th>source</th>\n",
       "      <th>location_source</th>\n",
       "      <th>magnitude_source</th>\n",
       "      <th>status</th>\n",
       "      <th>years</th>\n",
       "      <th>Country</th>\n",
       "    </tr>\n",
       "  </thead>\n",
       "  <tbody>\n",
       "    <tr>\n",
       "      <th>5375</th>\n",
       "      <td>1979-12-12 00:00:00+00:00</td>\n",
       "      <td>08:14:50</td>\n",
       "      <td>2.149</td>\n",
       "      <td>-79.393</td>\n",
       "      <td>Earthquake</td>\n",
       "      <td>33.0</td>\n",
       "      <td>5.5</td>\n",
       "      <td>MB</td>\n",
       "      <td>USP00014EZ</td>\n",
       "      <td>US</td>\n",
       "      <td>US</td>\n",
       "      <td>US</td>\n",
       "      <td>Reviewed</td>\n",
       "      <td>1979</td>\n",
       "      <td>Unknown</td>\n",
       "    </tr>\n",
       "    <tr>\n",
       "      <th>6238</th>\n",
       "      <td>1982-07-10 00:00:00+00:00</td>\n",
       "      <td>12:04:40</td>\n",
       "      <td>-55.985</td>\n",
       "      <td>146.843</td>\n",
       "      <td>Earthquake</td>\n",
       "      <td>10.0</td>\n",
       "      <td>5.5</td>\n",
       "      <td>MS</td>\n",
       "      <td>USP0001NBM</td>\n",
       "      <td>US</td>\n",
       "      <td>US</td>\n",
       "      <td>US</td>\n",
       "      <td>Reviewed</td>\n",
       "      <td>1982</td>\n",
       "      <td>Unknown</td>\n",
       "    </tr>\n",
       "    <tr>\n",
       "      <th>6256</th>\n",
       "      <td>1982-08-06 00:00:00+00:00</td>\n",
       "      <td>20:46:14</td>\n",
       "      <td>-8.319</td>\n",
       "      <td>120.416</td>\n",
       "      <td>Earthquake</td>\n",
       "      <td>49.9</td>\n",
       "      <td>5.5</td>\n",
       "      <td>MB</td>\n",
       "      <td>USP0001NVY</td>\n",
       "      <td>US</td>\n",
       "      <td>US</td>\n",
       "      <td>US</td>\n",
       "      <td>Reviewed</td>\n",
       "      <td>1982</td>\n",
       "      <td>Indonesia</td>\n",
       "    </tr>\n",
       "  </tbody>\n",
       "</table>\n",
       "</div>"
      ],
      "text/plain": [
       "                          date      time  latitude  longitude        type  \\\n",
       "5375 1979-12-12 00:00:00+00:00  08:14:50     2.149    -79.393  Earthquake   \n",
       "6238 1982-07-10 00:00:00+00:00  12:04:40   -55.985    146.843  Earthquake   \n",
       "6256 1982-08-06 00:00:00+00:00  20:46:14    -8.319    120.416  Earthquake   \n",
       "\n",
       "      depth  magnitude magnitude_type          id source location_source  \\\n",
       "5375   33.0        5.5             MB  USP00014EZ     US              US   \n",
       "6238   10.0        5.5             MS  USP0001NBM     US              US   \n",
       "6256   49.9        5.5             MB  USP0001NVY     US              US   \n",
       "\n",
       "     magnitude_source    status  years    Country  \n",
       "5375               US  Reviewed   1979    Unknown  \n",
       "6238               US  Reviewed   1982    Unknown  \n",
       "6256               US  Reviewed   1982  Indonesia  "
      ]
     },
     "execution_count": 41,
     "metadata": {},
     "output_type": "execute_result"
    }
   ],
   "source": [
    "top_3_min_records.head()"
   ]
  },
  {
   "cell_type": "code",
   "execution_count": 42,
   "metadata": {
    "id": "tVNdk-XcgZ7V"
   },
   "outputs": [],
   "source": [
    "top_3_max_country_records =  {\n",
    "                              'country': ['Japan','Indonesia', 'Chile'],\n",
    "                              'magnitude': [9.1,9.1,8.8]\n",
    "                              }\n",
    "top_3_min_country_records =  {\n",
    "                              'country': ['Equador', 'Australia', 'Indonesia'],\n",
    "                              'magnitude': [5.5,5.5,5.5]\n",
    "                              }\n",
    "top_3_max_country_records = pd.DataFrame(top_3_max_country_records)\n",
    "top_3_min_country_records = pd.DataFrame(top_3_min_country_records)"
   ]
  },
  {
   "cell_type": "markdown",
   "metadata": {
    "id": "UmwviqF7ILcn"
   },
   "source": [
    "## **Phase 5: SHARE**"
   ]
  },
  {
   "cell_type": "markdown",
   "metadata": {
    "id": "b3QjDrIcIekd"
   },
   "source": [
    "**1 - Check the correlation between the magnitude and depth :**"
   ]
  },
  {
   "cell_type": "code",
   "execution_count": 43,
   "metadata": {
    "colab": {
     "base_uri": "https://localhost:8080/",
     "height": 484
    },
    "id": "QHeWkS98IlN7",
    "outputId": "254c7db8-094d-46ca-acad-29ed0eaf2f0d"
   },
   "outputs": [
    {
     "data": {
      "image/png": "[encoded data removed]",
      "text/plain": [
       "<Figure size 640x480 with 1 Axes>"
      ]
     },
     "metadata": {},
     "output_type": "display_data"
    }
   ],
   "source": [
    "x = earthquakes['magnitude']\n",
    "y = earthquakes['depth']\n",
    "# Create a scatter plot\n",
    "plt.scatter(x, y)\n",
    "# Add labels and title\n",
    "plt.xlabel('The magnitude',fontdict = font2)\n",
    "plt.ylabel('The depth', fontdict = font2)\n",
    "plt.title('Scatter Plot of the variables depth and magnitude', fontdict = font1)\n",
    "# Show the plot\n",
    "plt.show()"
   ]
  },
  {
   "cell_type": "markdown",
   "metadata": {
    "id": "Im6cSFPDIerP"
   },
   "source": [
    "We notice from this scatter plot that there is no linear correlation between the magnitude and the depth"
   ]
  },
  {
   "cell_type": "markdown",
   "metadata": {
    "id": "D74ddgZ5IsZi"
   },
   "source": [
    "**2- The earthquake location of highest magnitude :**"
   ]
  },
  {
   "cell_type": "code",
   "execution_count": 44,
   "metadata": {
    "colab": {
     "base_uri": "https://localhost:8080/",
     "height": 600
    },
    "id": "zjro8gZcIs21",
    "outputId": "0d13c221-5656-4364-c21b-21e39346261a"
   },
   "outputs": [
    {
     "name": "stderr",
     "output_type": "stream",
     "text": [
      "C:\\Users\\Admin\\AppData\\Local\\Temp\\ipykernel_13116\\3463089203.py:10: FutureWarning: The geopandas.dataset module is deprecated and will be removed in GeoPandas 1.0. You can get the original 'naturalearth_lowres' data from https://www.naturalearthdata.com/downloads/110m-cultural-vectors/.\n",
      "  world = gpd.read_file(gpd.datasets.get_path('naturalearth_lowres'))\n"
     ]
    },
    {
     "data": {
      "image/png": "[encoded data removed]",
      "text/plain": [
       "<Figure size 1000x600 with 1 Axes>"
      ]
     },
     "metadata": {},
     "output_type": "display_data"
    }
   ],
   "source": [
    "country_name = 'Japan'\n",
    "latitude = max_magnitude.latitude\n",
    "longitude = max_magnitude.longitude\n",
    "\n",
    "# Create a GeoDataFrame with a single point representing the country\n",
    "geometry = [Point(longitude, latitude)]\n",
    "geo_df = gpd.GeoDataFrame(geometry=geometry, crs=\"EPSG:4326\")\n",
    "\n",
    "# Load the world map shapefile (or another appropriate shapefile)\n",
    "world = gpd.read_file(gpd.datasets.get_path('naturalearth_lowres'))\n",
    "\n",
    "# Plot the world map\n",
    "ax = world.plot(figsize=(10, 6))\n",
    "\n",
    "# Plot the country point on top\n",
    "geo_df.plot(ax=ax, color='red', markersize=108)\n",
    "\n",
    "# Set plot title\n",
    "plt.title(f\"The earthquake location in  {country_name}\")\n",
    "\n",
    "# Show the plot\n",
    "plt.show()"
   ]
  },
  {
   "cell_type": "markdown",
   "metadata": {
    "id": "cc5S1pQWJFjp"
   },
   "source": [
    "**3- The earthquake location of lowest magnitude :**  "
   ]
  },
  {
   "cell_type": "code",
   "execution_count": 45,
   "metadata": {
    "colab": {
     "base_uri": "https://localhost:8080/",
     "height": 512
    },
    "id": "LYCM1LsQJVku",
    "outputId": "11b81b8f-3f4c-4a26-a137-b17ef0c55589"
   },
   "outputs": [
    {
     "name": "stderr",
     "output_type": "stream",
     "text": [
      "C:\\Users\\Admin\\AppData\\Local\\Temp\\ipykernel_13116\\3925680550.py:10: FutureWarning: The geopandas.dataset module is deprecated and will be removed in GeoPandas 1.0. You can get the original 'naturalearth_lowres' data from https://www.naturalearthdata.com/downloads/110m-cultural-vectors/.\n",
      "  world = gpd.read_file(gpd.datasets.get_path('naturalearth_lowres'))\n"
     ]
    },
    {
     "data": {
      "image/png": "[encoded data removed]",
      "text/plain": [
       "<Figure size 1000x600 with 1 Axes>"
      ]
     },
     "metadata": {},
     "output_type": "display_data"
    }
   ],
   "source": [
    "country_name = 'Ecuador'\n",
    "latitude = min_magnitude_record.latitude\n",
    "longitude = min_magnitude_record.longitude\n",
    "\n",
    "# Create a GeoDataFrame with a single point representing the country\n",
    "geometry = [Point(longitude, latitude)]\n",
    "geo_df = gpd.GeoDataFrame(geometry=geometry, crs=\"EPSG:4326\")\n",
    "\n",
    "# Load the world map shapefile (or another appropriate shapefile)\n",
    "world = gpd.read_file(gpd.datasets.get_path('naturalearth_lowres'))\n",
    "\n",
    "# Plot the world map\n",
    "ax = world.plot(figsize=(10, 6))\n",
    "\n",
    "# Plot the country point on top\n",
    "geo_df.plot(ax=ax, color='red', markersize=20)\n",
    "\n",
    "# Set plot title\n",
    "plt.title(f\"The earthquake location in  {country_name}\")\n",
    "\n",
    "# Show the plot\n",
    "plt.show()"
   ]
  },
  {
   "cell_type": "markdown",
   "metadata": {
    "id": "WOQ4i3NYJUNc"
   },
   "source": [
    "**4 - The top 3 highest magnitudes record countries**"
   ]
  },
  {
   "cell_type": "code",
   "execution_count": 46,
   "metadata": {
    "colab": {
     "base_uri": "https://localhost:8080/",
     "height": 576
    },
    "id": "c_Vct0MLJkTs",
    "outputId": "ef023187-53b7-4692-9042-101b8bbd9e6d"
   },
   "outputs": [
    {
     "data": {
      "image/png": "[encoded data removed]",
      "text/plain": [
       "<Figure size 600x600 with 1 Axes>"
      ]
     },
     "metadata": {},
     "output_type": "display_data"
    }
   ],
   "source": [
    "plt.figure(figsize=(6, 6))\n",
    "plt.barh(top_3_max_country_records['country'], top_3_max_country_records['magnitude'], color='skyblue')\n",
    "plt.xlabel('The magnitude',fontdict = font2)\n",
    "plt.title('Top 3 Countries in having highest magnitudes', fontdict = font1)\n",
    "plt.gca().invert_yaxis()  # To have the highest production at the top\n",
    "plt.show()"
   ]
  },
  {
   "cell_type": "markdown",
   "metadata": {
    "id": "EpHd5EVOJnva"
   },
   "source": [
    "This horizontal bar chart illustrates the top 3 countries that have the highest earthquake magnitude which are Japan, Indonesia and Chile"
   ]
  },
  {
   "cell_type": "markdown",
   "metadata": {
    "id": "r2PmXDqqJwJy"
   },
   "source": [
    "**5 - The top 3 lowest magnitudes record countries**"
   ]
  },
  {
   "cell_type": "code",
   "execution_count": 47,
   "metadata": {
    "colab": {
     "base_uri": "https://localhost:8080/",
     "height": 576
    },
    "id": "1-VaOZatJ1aK",
    "outputId": "61ece182-7913-4126-ea5e-e9e9dc0a15c5"
   },
   "outputs": [
    {
     "data": {
      "image/png": "[encoded data removed]",
      "text/plain": [
       "<Figure size 600x600 with 1 Axes>"
      ]
     },
     "metadata": {},
     "output_type": "display_data"
    }
   ],
   "source": [
    "plt.figure(figsize=(6, 6))\n",
    "plt.barh(top_3_min_country_records['country'], top_3_min_country_records['magnitude'], color='skyblue')\n",
    "plt.xlabel('The magnitude',fontdict = font2)\n",
    "plt.title('Top 3 Countries having lowest magnitudes', fontdict = font1)\n",
    "plt.gca().invert_yaxis()  # To have the highest production at the top\n",
    "plt.show()"
   ]
  },
  {
   "cell_type": "markdown",
   "metadata": {
    "id": "9Zyvh7dpJ5vl"
   },
   "source": [
    "This horizontal bar chart shows the top 3 countries that have the lowest earthquake magnitudes which are Australia, Indonesia and Equador"
   ]
  },
  {
   "cell_type": "markdown",
   "metadata": {
    "id": "332Orb73J-q5"
   },
   "source": [
    "**6 - Findings:**"
   ]
  },
  {
   "cell_type": "markdown",
   "metadata": {
    "id": "zIqNXu-mKGy2"
   },
   "source": [
    "From this data analysis we conclude that the following countries; Japan, Indonesia and Chile had experienced the highest earthquake magnitudes"
   ]
  },
  {
   "cell_type": "markdown",
   "metadata": {
    "id": "lYScUem1KOH3"
   },
   "source": [
    "## **Phase 6: ACT**"
   ]
  },
  {
   "cell_type": "markdown",
   "metadata": {
    "id": "6-Kf7HtOKTPW"
   },
   "source": [
    "Based on the analysis, some of the insights/recommendations for the countries with hight earthquak avtivity:\n",
    "\n",
    "*   Create an Emergency Plan.\n",
    "*   Secure Heavy Furniture and Objects.\n",
    "*   Building Safety.\n",
    "*   Know Safe Locations.\n",
    "*   Evacuation Plans.\n",
    "*   Community Preparedness.\n",
    "\n",
    "\n",
    "\n",
    "\n",
    "\n",
    "\n",
    "\n",
    "\n",
    "\n"
   ]
  },
  {
   "cell_type": "code",
   "execution_count": null,
   "metadata": {},
   "outputs": [],
   "source": []
  }
 ],
 "metadata": {
  "colab": {
   "provenance": []
  },
  "kernelspec": {
   "display_name": "Python 3 (ipykernel)",
   "language": "python",
   "name": "python3"
  },
  "language_info": {
   "codemirror_mode": {
    "name": "ipython",
    "version": 3
   },
   "file_extension": ".py",
   "mimetype": "text/x-python",
   "name": "python",
   "nbconvert_exporter": "python",
   "pygments_lexer": "ipython3",
   "version": "3.10.16"
  }
 },
 "nbformat": 4,
 "nbformat_minor": 4
}
